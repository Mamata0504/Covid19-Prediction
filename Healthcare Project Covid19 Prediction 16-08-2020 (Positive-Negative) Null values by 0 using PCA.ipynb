{
 "cells": [
  {
   "cell_type": "markdown",
   "metadata": {},
   "source": [
    "# Risk Analysis of Covid19 Virus"
   ]
  },
  {
   "cell_type": "markdown",
   "metadata": {},
   "source": [
    "As the outbreak of coronavirus disease 2019 (COVID-19) progresses, epidemiological data are needed to guide situational awareness and intervention strategies. The enormous impact of the COVID-19 pandemic is obvious. What many still haven’t realized, however, is that the impact on ongoing data science production setups has been dramatic, too. Artificial Intelligence is actively used in identifying high risk patients at an earlier stage and therefore helps to control the spread of the infection in real-time. This becomes particularly important at this time of crisis because real time monitoring is the best option for people to self-isolate and mitigate the spread of the virus."
   ]
  },
  {
   "cell_type": "markdown",
   "metadata": {},
   "source": [
    "# Objective 1"
   ]
  },
  {
   "cell_type": "markdown",
   "metadata": {},
   "source": [
    "1. Given a person and his/her vital data, predict the viability of a RT-PCR test. Basically predict the probability of risk for the given person. The following data inputs could be provided (you can add 3 more attributes)\n",
    "\n",
    "       a. Name, Age, Gender, Address, Blood Pressure, Cough, Fever, travel history \n",
    "       b. Make sure that an optimum position is obtained for the precision and recall metrics. \n",
    "       c. Give a brief summary of attributes used, domain knowledge employed, and different data sources utilised and entire EDA process. Complete data analysis should be presented. \n",
    "       d. Make an API feature that takes the input of patients as request, and returns the response (probability of infection/ vulnerability)."
   ]
  },
  {
   "cell_type": "code",
   "execution_count": 68,
   "metadata": {},
   "outputs": [],
   "source": [
    "#Importing Libraries\n",
    "import pandas as pd\n",
    "import matplotlib.pyplot as  plt\n",
    "import seaborn as sns\n",
    "import numpy as np\n",
    "from sklearn.preprocessing import LabelEncoder\n",
    "from sklearn.preprocessing import StandardScaler,RobustScaler,PowerTransformer,MinMaxScaler\n",
    "from sklearn.model_selection import train_test_split,cross_val_score\n",
    "from sklearn.metrics import accuracy_score,confusion_matrix,classification_report\n",
    "from sklearn import metrics\n",
    "import warnings\n",
    "warnings.filterwarnings(\"ignore\")"
   ]
  },
  {
   "cell_type": "markdown",
   "metadata": {},
   "source": [
    "# Loading of Data"
   ]
  },
  {
   "cell_type": "code",
   "execution_count": 69,
   "metadata": {},
   "outputs": [
    {
     "data": {
      "text/html": [
       "<div>\n",
       "<style scoped>\n",
       "    .dataframe tbody tr th:only-of-type {\n",
       "        vertical-align: middle;\n",
       "    }\n",
       "\n",
       "    .dataframe tbody tr th {\n",
       "        vertical-align: top;\n",
       "    }\n",
       "\n",
       "    .dataframe thead th {\n",
       "        text-align: right;\n",
       "    }\n",
       "</style>\n",
       "<table border=\"1\" class=\"dataframe\">\n",
       "  <thead>\n",
       "    <tr style=\"text-align: right;\">\n",
       "      <th></th>\n",
       "      <th>id</th>\n",
       "      <th>sex</th>\n",
       "      <th>patient_type</th>\n",
       "      <th>entry_date</th>\n",
       "      <th>date_symptoms</th>\n",
       "      <th>date_died</th>\n",
       "      <th>intubed</th>\n",
       "      <th>pneumonia</th>\n",
       "      <th>age</th>\n",
       "      <th>pregnancy</th>\n",
       "      <th>diabetes</th>\n",
       "      <th>copd</th>\n",
       "      <th>asthma</th>\n",
       "      <th>inmsupr</th>\n",
       "      <th>hypertension</th>\n",
       "      <th>other_disease</th>\n",
       "      <th>cardiovascular</th>\n",
       "      <th>obesity</th>\n",
       "      <th>renal_chronic</th>\n",
       "      <th>tobacco</th>\n",
       "      <th>contact_other_covid</th>\n",
       "      <th>covid_res</th>\n",
       "      <th>icu</th>\n",
       "    </tr>\n",
       "  </thead>\n",
       "  <tbody>\n",
       "    <tr>\n",
       "      <th>0</th>\n",
       "      <td>16169f</td>\n",
       "      <td>2</td>\n",
       "      <td>1</td>\n",
       "      <td>04-05-2020</td>\n",
       "      <td>02-05-2020</td>\n",
       "      <td>9999-99-99</td>\n",
       "      <td>97</td>\n",
       "      <td>2</td>\n",
       "      <td>27</td>\n",
       "      <td>97</td>\n",
       "      <td>2</td>\n",
       "      <td>2</td>\n",
       "      <td>2</td>\n",
       "      <td>2</td>\n",
       "      <td>2</td>\n",
       "      <td>2</td>\n",
       "      <td>2</td>\n",
       "      <td>2</td>\n",
       "      <td>2</td>\n",
       "      <td>2</td>\n",
       "      <td>2</td>\n",
       "      <td>1</td>\n",
       "      <td>97</td>\n",
       "    </tr>\n",
       "    <tr>\n",
       "      <th>1</th>\n",
       "      <td>1009bf</td>\n",
       "      <td>2</td>\n",
       "      <td>1</td>\n",
       "      <td>19-03-2020</td>\n",
       "      <td>17-03-2020</td>\n",
       "      <td>9999-99-99</td>\n",
       "      <td>97</td>\n",
       "      <td>2</td>\n",
       "      <td>24</td>\n",
       "      <td>97</td>\n",
       "      <td>2</td>\n",
       "      <td>2</td>\n",
       "      <td>2</td>\n",
       "      <td>2</td>\n",
       "      <td>2</td>\n",
       "      <td>2</td>\n",
       "      <td>2</td>\n",
       "      <td>2</td>\n",
       "      <td>2</td>\n",
       "      <td>2</td>\n",
       "      <td>99</td>\n",
       "      <td>1</td>\n",
       "      <td>97</td>\n",
       "    </tr>\n",
       "    <tr>\n",
       "      <th>2</th>\n",
       "      <td>167386</td>\n",
       "      <td>1</td>\n",
       "      <td>2</td>\n",
       "      <td>06-04-2020</td>\n",
       "      <td>01-04-2020</td>\n",
       "      <td>9999-99-99</td>\n",
       "      <td>2</td>\n",
       "      <td>2</td>\n",
       "      <td>54</td>\n",
       "      <td>2</td>\n",
       "      <td>2</td>\n",
       "      <td>2</td>\n",
       "      <td>2</td>\n",
       "      <td>2</td>\n",
       "      <td>2</td>\n",
       "      <td>2</td>\n",
       "      <td>2</td>\n",
       "      <td>1</td>\n",
       "      <td>2</td>\n",
       "      <td>2</td>\n",
       "      <td>99</td>\n",
       "      <td>1</td>\n",
       "      <td>2</td>\n",
       "    </tr>\n",
       "    <tr>\n",
       "      <th>3</th>\n",
       "      <td>0b5948</td>\n",
       "      <td>2</td>\n",
       "      <td>2</td>\n",
       "      <td>17-04-2020</td>\n",
       "      <td>10-04-2020</td>\n",
       "      <td>9999-99-99</td>\n",
       "      <td>2</td>\n",
       "      <td>1</td>\n",
       "      <td>30</td>\n",
       "      <td>97</td>\n",
       "      <td>2</td>\n",
       "      <td>2</td>\n",
       "      <td>2</td>\n",
       "      <td>2</td>\n",
       "      <td>2</td>\n",
       "      <td>2</td>\n",
       "      <td>2</td>\n",
       "      <td>2</td>\n",
       "      <td>2</td>\n",
       "      <td>2</td>\n",
       "      <td>99</td>\n",
       "      <td>1</td>\n",
       "      <td>2</td>\n",
       "    </tr>\n",
       "    <tr>\n",
       "      <th>4</th>\n",
       "      <td>0d01b5</td>\n",
       "      <td>1</td>\n",
       "      <td>2</td>\n",
       "      <td>13-04-2020</td>\n",
       "      <td>13-04-2020</td>\n",
       "      <td>22-04-2020</td>\n",
       "      <td>2</td>\n",
       "      <td>2</td>\n",
       "      <td>60</td>\n",
       "      <td>2</td>\n",
       "      <td>1</td>\n",
       "      <td>2</td>\n",
       "      <td>2</td>\n",
       "      <td>2</td>\n",
       "      <td>1</td>\n",
       "      <td>2</td>\n",
       "      <td>1</td>\n",
       "      <td>2</td>\n",
       "      <td>2</td>\n",
       "      <td>2</td>\n",
       "      <td>99</td>\n",
       "      <td>1</td>\n",
       "      <td>2</td>\n",
       "    </tr>\n",
       "  </tbody>\n",
       "</table>\n",
       "</div>"
      ],
      "text/plain": [
       "       id  sex  patient_type  entry_date date_symptoms   date_died  intubed  \\\n",
       "0  16169f    2             1  04-05-2020    02-05-2020  9999-99-99       97   \n",
       "1  1009bf    2             1  19-03-2020    17-03-2020  9999-99-99       97   \n",
       "2  167386    1             2  06-04-2020    01-04-2020  9999-99-99        2   \n",
       "3  0b5948    2             2  17-04-2020    10-04-2020  9999-99-99        2   \n",
       "4  0d01b5    1             2  13-04-2020    13-04-2020  22-04-2020        2   \n",
       "\n",
       "   pneumonia  age  pregnancy  diabetes  copd  asthma  inmsupr  hypertension  \\\n",
       "0          2   27         97         2     2       2        2             2   \n",
       "1          2   24         97         2     2       2        2             2   \n",
       "2          2   54          2         2     2       2        2             2   \n",
       "3          1   30         97         2     2       2        2             2   \n",
       "4          2   60          2         1     2       2        2             1   \n",
       "\n",
       "   other_disease  cardiovascular  obesity  renal_chronic  tobacco  \\\n",
       "0              2               2        2              2        2   \n",
       "1              2               2        2              2        2   \n",
       "2              2               2        1              2        2   \n",
       "3              2               2        2              2        2   \n",
       "4              2               1        2              2        2   \n",
       "\n",
       "   contact_other_covid  covid_res  icu  \n",
       "0                    2          1   97  \n",
       "1                   99          1   97  \n",
       "2                   99          1    2  \n",
       "3                   99          1    2  \n",
       "4                   99          1    2  "
      ]
     },
     "execution_count": 69,
     "metadata": {},
     "output_type": "execute_result"
    }
   ],
   "source": [
    "pd.set_option('display.max_columns',None)\n",
    "df=pd.read_csv(r'D:\\Velocity Corporate Training\\Python\\Databases\\Healthcare Project\\Covid19Precondition\\covid.csv')\n",
    "df.head()"
   ]
  },
  {
   "cell_type": "code",
   "execution_count": 70,
   "metadata": {},
   "outputs": [
    {
     "name": "stdout",
     "output_type": "stream",
     "text": [
      "<class 'pandas.core.frame.DataFrame'>\n",
      "RangeIndex: 566602 entries, 0 to 566601\n",
      "Data columns (total 23 columns):\n",
      "id                     566602 non-null object\n",
      "sex                    566602 non-null int64\n",
      "patient_type           566602 non-null int64\n",
      "entry_date             566602 non-null object\n",
      "date_symptoms          566602 non-null object\n",
      "date_died              566602 non-null object\n",
      "intubed                566602 non-null int64\n",
      "pneumonia              566602 non-null int64\n",
      "age                    566602 non-null int64\n",
      "pregnancy              566602 non-null int64\n",
      "diabetes               566602 non-null int64\n",
      "copd                   566602 non-null int64\n",
      "asthma                 566602 non-null int64\n",
      "inmsupr                566602 non-null int64\n",
      "hypertension           566602 non-null int64\n",
      "other_disease          566602 non-null int64\n",
      "cardiovascular         566602 non-null int64\n",
      "obesity                566602 non-null int64\n",
      "renal_chronic          566602 non-null int64\n",
      "tobacco                566602 non-null int64\n",
      "contact_other_covid    566602 non-null int64\n",
      "covid_res              566602 non-null int64\n",
      "icu                    566602 non-null int64\n",
      "dtypes: int64(19), object(4)\n",
      "memory usage: 99.4+ MB\n"
     ]
    }
   ],
   "source": [
    "df.info()"
   ]
  },
  {
   "cell_type": "code",
   "execution_count": 71,
   "metadata": {},
   "outputs": [
    {
     "data": {
      "text/html": [
       "<div>\n",
       "<style scoped>\n",
       "    .dataframe tbody tr th:only-of-type {\n",
       "        vertical-align: middle;\n",
       "    }\n",
       "\n",
       "    .dataframe tbody tr th {\n",
       "        vertical-align: top;\n",
       "    }\n",
       "\n",
       "    .dataframe thead th {\n",
       "        text-align: right;\n",
       "    }\n",
       "</style>\n",
       "<table border=\"1\" class=\"dataframe\">\n",
       "  <thead>\n",
       "    <tr style=\"text-align: right;\">\n",
       "      <th></th>\n",
       "      <th>sex</th>\n",
       "      <th>patient_type</th>\n",
       "      <th>intubed</th>\n",
       "      <th>pneumonia</th>\n",
       "      <th>age</th>\n",
       "      <th>pregnancy</th>\n",
       "      <th>diabetes</th>\n",
       "      <th>copd</th>\n",
       "      <th>asthma</th>\n",
       "      <th>inmsupr</th>\n",
       "      <th>hypertension</th>\n",
       "      <th>other_disease</th>\n",
       "      <th>cardiovascular</th>\n",
       "      <th>obesity</th>\n",
       "      <th>renal_chronic</th>\n",
       "      <th>tobacco</th>\n",
       "      <th>contact_other_covid</th>\n",
       "      <th>covid_res</th>\n",
       "      <th>icu</th>\n",
       "    </tr>\n",
       "  </thead>\n",
       "  <tbody>\n",
       "    <tr>\n",
       "      <th>count</th>\n",
       "      <td>566602.000000</td>\n",
       "      <td>566602.000000</td>\n",
       "      <td>566602.000000</td>\n",
       "      <td>566602.000000</td>\n",
       "      <td>566602.000000</td>\n",
       "      <td>566602.000000</td>\n",
       "      <td>566602.000000</td>\n",
       "      <td>566602.000000</td>\n",
       "      <td>566602.000000</td>\n",
       "      <td>566602.000000</td>\n",
       "      <td>566602.000000</td>\n",
       "      <td>566602.000000</td>\n",
       "      <td>566602.000000</td>\n",
       "      <td>566602.000000</td>\n",
       "      <td>566602.000000</td>\n",
       "      <td>566602.000000</td>\n",
       "      <td>566602.000000</td>\n",
       "      <td>566602.000000</td>\n",
       "      <td>566602.000000</td>\n",
       "    </tr>\n",
       "    <tr>\n",
       "      <th>mean</th>\n",
       "      <td>1.506726</td>\n",
       "      <td>1.215165</td>\n",
       "      <td>76.562952</td>\n",
       "      <td>1.846262</td>\n",
       "      <td>42.622483</td>\n",
       "      <td>50.400692</td>\n",
       "      <td>2.210633</td>\n",
       "      <td>2.280221</td>\n",
       "      <td>2.265029</td>\n",
       "      <td>2.319628</td>\n",
       "      <td>2.145774</td>\n",
       "      <td>2.410030</td>\n",
       "      <td>2.286157</td>\n",
       "      <td>2.138905</td>\n",
       "      <td>2.283765</td>\n",
       "      <td>2.238360</td>\n",
       "      <td>31.573034</td>\n",
       "      <td>1.728651</td>\n",
       "      <td>76.562864</td>\n",
       "    </tr>\n",
       "    <tr>\n",
       "      <th>std</th>\n",
       "      <td>0.499955</td>\n",
       "      <td>0.410937</td>\n",
       "      <td>39.058676</td>\n",
       "      <td>0.560939</td>\n",
       "      <td>16.659973</td>\n",
       "      <td>47.501579</td>\n",
       "      <td>5.683523</td>\n",
       "      <td>5.327832</td>\n",
       "      <td>5.334658</td>\n",
       "      <td>5.667381</td>\n",
       "      <td>5.459866</td>\n",
       "      <td>6.489959</td>\n",
       "      <td>5.438405</td>\n",
       "      <td>5.395578</td>\n",
       "      <td>5.393232</td>\n",
       "      <td>5.571901</td>\n",
       "      <td>45.082123</td>\n",
       "      <td>0.658710</td>\n",
       "      <td>39.059060</td>\n",
       "    </tr>\n",
       "    <tr>\n",
       "      <th>min</th>\n",
       "      <td>1.000000</td>\n",
       "      <td>1.000000</td>\n",
       "      <td>1.000000</td>\n",
       "      <td>1.000000</td>\n",
       "      <td>0.000000</td>\n",
       "      <td>1.000000</td>\n",
       "      <td>1.000000</td>\n",
       "      <td>1.000000</td>\n",
       "      <td>1.000000</td>\n",
       "      <td>1.000000</td>\n",
       "      <td>1.000000</td>\n",
       "      <td>1.000000</td>\n",
       "      <td>1.000000</td>\n",
       "      <td>1.000000</td>\n",
       "      <td>1.000000</td>\n",
       "      <td>1.000000</td>\n",
       "      <td>1.000000</td>\n",
       "      <td>1.000000</td>\n",
       "      <td>1.000000</td>\n",
       "    </tr>\n",
       "    <tr>\n",
       "      <th>25%</th>\n",
       "      <td>1.000000</td>\n",
       "      <td>1.000000</td>\n",
       "      <td>97.000000</td>\n",
       "      <td>2.000000</td>\n",
       "      <td>31.000000</td>\n",
       "      <td>2.000000</td>\n",
       "      <td>2.000000</td>\n",
       "      <td>2.000000</td>\n",
       "      <td>2.000000</td>\n",
       "      <td>2.000000</td>\n",
       "      <td>2.000000</td>\n",
       "      <td>2.000000</td>\n",
       "      <td>2.000000</td>\n",
       "      <td>2.000000</td>\n",
       "      <td>2.000000</td>\n",
       "      <td>2.000000</td>\n",
       "      <td>1.000000</td>\n",
       "      <td>1.000000</td>\n",
       "      <td>97.000000</td>\n",
       "    </tr>\n",
       "    <tr>\n",
       "      <th>50%</th>\n",
       "      <td>2.000000</td>\n",
       "      <td>1.000000</td>\n",
       "      <td>97.000000</td>\n",
       "      <td>2.000000</td>\n",
       "      <td>41.000000</td>\n",
       "      <td>97.000000</td>\n",
       "      <td>2.000000</td>\n",
       "      <td>2.000000</td>\n",
       "      <td>2.000000</td>\n",
       "      <td>2.000000</td>\n",
       "      <td>2.000000</td>\n",
       "      <td>2.000000</td>\n",
       "      <td>2.000000</td>\n",
       "      <td>2.000000</td>\n",
       "      <td>2.000000</td>\n",
       "      <td>2.000000</td>\n",
       "      <td>2.000000</td>\n",
       "      <td>2.000000</td>\n",
       "      <td>97.000000</td>\n",
       "    </tr>\n",
       "    <tr>\n",
       "      <th>75%</th>\n",
       "      <td>2.000000</td>\n",
       "      <td>1.000000</td>\n",
       "      <td>97.000000</td>\n",
       "      <td>2.000000</td>\n",
       "      <td>53.000000</td>\n",
       "      <td>97.000000</td>\n",
       "      <td>2.000000</td>\n",
       "      <td>2.000000</td>\n",
       "      <td>2.000000</td>\n",
       "      <td>2.000000</td>\n",
       "      <td>2.000000</td>\n",
       "      <td>2.000000</td>\n",
       "      <td>2.000000</td>\n",
       "      <td>2.000000</td>\n",
       "      <td>2.000000</td>\n",
       "      <td>2.000000</td>\n",
       "      <td>99.000000</td>\n",
       "      <td>2.000000</td>\n",
       "      <td>97.000000</td>\n",
       "    </tr>\n",
       "    <tr>\n",
       "      <th>max</th>\n",
       "      <td>2.000000</td>\n",
       "      <td>2.000000</td>\n",
       "      <td>99.000000</td>\n",
       "      <td>99.000000</td>\n",
       "      <td>120.000000</td>\n",
       "      <td>98.000000</td>\n",
       "      <td>98.000000</td>\n",
       "      <td>98.000000</td>\n",
       "      <td>98.000000</td>\n",
       "      <td>98.000000</td>\n",
       "      <td>98.000000</td>\n",
       "      <td>98.000000</td>\n",
       "      <td>98.000000</td>\n",
       "      <td>98.000000</td>\n",
       "      <td>98.000000</td>\n",
       "      <td>98.000000</td>\n",
       "      <td>99.000000</td>\n",
       "      <td>3.000000</td>\n",
       "      <td>99.000000</td>\n",
       "    </tr>\n",
       "  </tbody>\n",
       "</table>\n",
       "</div>"
      ],
      "text/plain": [
       "                 sex   patient_type        intubed      pneumonia  \\\n",
       "count  566602.000000  566602.000000  566602.000000  566602.000000   \n",
       "mean        1.506726       1.215165      76.562952       1.846262   \n",
       "std         0.499955       0.410937      39.058676       0.560939   \n",
       "min         1.000000       1.000000       1.000000       1.000000   \n",
       "25%         1.000000       1.000000      97.000000       2.000000   \n",
       "50%         2.000000       1.000000      97.000000       2.000000   \n",
       "75%         2.000000       1.000000      97.000000       2.000000   \n",
       "max         2.000000       2.000000      99.000000      99.000000   \n",
       "\n",
       "                 age      pregnancy       diabetes           copd  \\\n",
       "count  566602.000000  566602.000000  566602.000000  566602.000000   \n",
       "mean       42.622483      50.400692       2.210633       2.280221   \n",
       "std        16.659973      47.501579       5.683523       5.327832   \n",
       "min         0.000000       1.000000       1.000000       1.000000   \n",
       "25%        31.000000       2.000000       2.000000       2.000000   \n",
       "50%        41.000000      97.000000       2.000000       2.000000   \n",
       "75%        53.000000      97.000000       2.000000       2.000000   \n",
       "max       120.000000      98.000000      98.000000      98.000000   \n",
       "\n",
       "              asthma        inmsupr   hypertension  other_disease  \\\n",
       "count  566602.000000  566602.000000  566602.000000  566602.000000   \n",
       "mean        2.265029       2.319628       2.145774       2.410030   \n",
       "std         5.334658       5.667381       5.459866       6.489959   \n",
       "min         1.000000       1.000000       1.000000       1.000000   \n",
       "25%         2.000000       2.000000       2.000000       2.000000   \n",
       "50%         2.000000       2.000000       2.000000       2.000000   \n",
       "75%         2.000000       2.000000       2.000000       2.000000   \n",
       "max        98.000000      98.000000      98.000000      98.000000   \n",
       "\n",
       "       cardiovascular        obesity  renal_chronic        tobacco  \\\n",
       "count   566602.000000  566602.000000  566602.000000  566602.000000   \n",
       "mean         2.286157       2.138905       2.283765       2.238360   \n",
       "std          5.438405       5.395578       5.393232       5.571901   \n",
       "min          1.000000       1.000000       1.000000       1.000000   \n",
       "25%          2.000000       2.000000       2.000000       2.000000   \n",
       "50%          2.000000       2.000000       2.000000       2.000000   \n",
       "75%          2.000000       2.000000       2.000000       2.000000   \n",
       "max         98.000000      98.000000      98.000000      98.000000   \n",
       "\n",
       "       contact_other_covid      covid_res            icu  \n",
       "count        566602.000000  566602.000000  566602.000000  \n",
       "mean             31.573034       1.728651      76.562864  \n",
       "std              45.082123       0.658710      39.059060  \n",
       "min               1.000000       1.000000       1.000000  \n",
       "25%               1.000000       1.000000      97.000000  \n",
       "50%               2.000000       2.000000      97.000000  \n",
       "75%              99.000000       2.000000      97.000000  \n",
       "max              99.000000       3.000000      99.000000  "
      ]
     },
     "execution_count": 71,
     "metadata": {},
     "output_type": "execute_result"
    }
   ],
   "source": [
    "df.describe()"
   ]
  },
  {
   "cell_type": "code",
   "execution_count": 72,
   "metadata": {},
   "outputs": [
    {
     "data": {
      "text/plain": [
       "Index(['id', 'sex', 'patient_type', 'entry_date', 'date_symptoms', 'date_died',\n",
       "       'intubed', 'pneumonia', 'age', 'pregnancy', 'diabetes', 'copd',\n",
       "       'asthma', 'inmsupr', 'hypertension', 'other_disease', 'cardiovascular',\n",
       "       'obesity', 'renal_chronic', 'tobacco', 'contact_other_covid',\n",
       "       'covid_res', 'icu'],\n",
       "      dtype='object')"
      ]
     },
     "execution_count": 72,
     "metadata": {},
     "output_type": "execute_result"
    }
   ],
   "source": [
    "df.columns"
   ]
  },
  {
   "cell_type": "markdown",
   "metadata": {},
   "source": [
    "# Data Description"
   ]
  },
  {
   "cell_type": "markdown",
   "metadata": {},
   "source": [
    "    (a) Sex\n",
    "        1: Female\n",
    "\n",
    "        2: Male\n",
    "\n",
    "    (b) Patient_type\n",
    "        1: Outpatient\n",
    "\n",
    "        2: Inpatient\n",
    "\n",
    "    (c) Columns with details like pregnancy, diabetes,copd,asthma , etc.\n",
    "        1: Yes\n",
    "\n",
    "        2: No\n",
    "\n",
    "    Others (97,98,99) : Not available"
   ]
  },
  {
   "cell_type": "markdown",
   "metadata": {},
   "source": [
    "# Feature Conversion into Proper Caategories"
   ]
  },
  {
   "cell_type": "code",
   "execution_count": 73,
   "metadata": {},
   "outputs": [],
   "source": [
    "df['sex']=df['sex'].replace({1:'Female',2:'Male'})\n",
    "df['patient_type']=df['patient_type'].replace({1:'Outpatient',2:'Inpatient'})\n",
    "df['covid_res']=df['covid_res'].replace({1:'Positive',2:'Negative',3:'Results Awaited'})\n",
    "df['date_died']=df['date_died'].replace({'9999-99-99':'NA'})\n",
    "df.iloc[:,6:]=df.iloc[:,6:].replace([97,98,99],np.nan)\n",
    "df.iloc[:,6:]=df.iloc[:,6:].replace(1,'Yes')\n",
    "df.iloc[:,6:]=df.iloc[:,6:].replace(2,'No')"
   ]
  },
  {
   "cell_type": "code",
   "execution_count": 74,
   "metadata": {},
   "outputs": [
    {
     "data": {
      "text/html": [
       "<div>\n",
       "<style scoped>\n",
       "    .dataframe tbody tr th:only-of-type {\n",
       "        vertical-align: middle;\n",
       "    }\n",
       "\n",
       "    .dataframe tbody tr th {\n",
       "        vertical-align: top;\n",
       "    }\n",
       "\n",
       "    .dataframe thead th {\n",
       "        text-align: right;\n",
       "    }\n",
       "</style>\n",
       "<table border=\"1\" class=\"dataframe\">\n",
       "  <thead>\n",
       "    <tr style=\"text-align: right;\">\n",
       "      <th></th>\n",
       "      <th>id</th>\n",
       "      <th>sex</th>\n",
       "      <th>patient_type</th>\n",
       "      <th>entry_date</th>\n",
       "      <th>date_symptoms</th>\n",
       "      <th>date_died</th>\n",
       "      <th>intubed</th>\n",
       "      <th>pneumonia</th>\n",
       "      <th>age</th>\n",
       "      <th>pregnancy</th>\n",
       "      <th>diabetes</th>\n",
       "      <th>copd</th>\n",
       "      <th>asthma</th>\n",
       "      <th>inmsupr</th>\n",
       "      <th>hypertension</th>\n",
       "      <th>other_disease</th>\n",
       "      <th>cardiovascular</th>\n",
       "      <th>obesity</th>\n",
       "      <th>renal_chronic</th>\n",
       "      <th>tobacco</th>\n",
       "      <th>contact_other_covid</th>\n",
       "      <th>covid_res</th>\n",
       "      <th>icu</th>\n",
       "    </tr>\n",
       "  </thead>\n",
       "  <tbody>\n",
       "    <tr>\n",
       "      <th>0</th>\n",
       "      <td>16169f</td>\n",
       "      <td>Male</td>\n",
       "      <td>Outpatient</td>\n",
       "      <td>04-05-2020</td>\n",
       "      <td>02-05-2020</td>\n",
       "      <td>NA</td>\n",
       "      <td>NaN</td>\n",
       "      <td>No</td>\n",
       "      <td>27</td>\n",
       "      <td>NaN</td>\n",
       "      <td>No</td>\n",
       "      <td>No</td>\n",
       "      <td>No</td>\n",
       "      <td>No</td>\n",
       "      <td>No</td>\n",
       "      <td>No</td>\n",
       "      <td>No</td>\n",
       "      <td>No</td>\n",
       "      <td>No</td>\n",
       "      <td>No</td>\n",
       "      <td>No</td>\n",
       "      <td>Positive</td>\n",
       "      <td>NaN</td>\n",
       "    </tr>\n",
       "    <tr>\n",
       "      <th>1</th>\n",
       "      <td>1009bf</td>\n",
       "      <td>Male</td>\n",
       "      <td>Outpatient</td>\n",
       "      <td>19-03-2020</td>\n",
       "      <td>17-03-2020</td>\n",
       "      <td>NA</td>\n",
       "      <td>NaN</td>\n",
       "      <td>No</td>\n",
       "      <td>24</td>\n",
       "      <td>NaN</td>\n",
       "      <td>No</td>\n",
       "      <td>No</td>\n",
       "      <td>No</td>\n",
       "      <td>No</td>\n",
       "      <td>No</td>\n",
       "      <td>No</td>\n",
       "      <td>No</td>\n",
       "      <td>No</td>\n",
       "      <td>No</td>\n",
       "      <td>No</td>\n",
       "      <td>NaN</td>\n",
       "      <td>Positive</td>\n",
       "      <td>NaN</td>\n",
       "    </tr>\n",
       "    <tr>\n",
       "      <th>2</th>\n",
       "      <td>167386</td>\n",
       "      <td>Female</td>\n",
       "      <td>Inpatient</td>\n",
       "      <td>06-04-2020</td>\n",
       "      <td>01-04-2020</td>\n",
       "      <td>NA</td>\n",
       "      <td>No</td>\n",
       "      <td>No</td>\n",
       "      <td>54</td>\n",
       "      <td>No</td>\n",
       "      <td>No</td>\n",
       "      <td>No</td>\n",
       "      <td>No</td>\n",
       "      <td>No</td>\n",
       "      <td>No</td>\n",
       "      <td>No</td>\n",
       "      <td>No</td>\n",
       "      <td>Yes</td>\n",
       "      <td>No</td>\n",
       "      <td>No</td>\n",
       "      <td>NaN</td>\n",
       "      <td>Positive</td>\n",
       "      <td>No</td>\n",
       "    </tr>\n",
       "    <tr>\n",
       "      <th>3</th>\n",
       "      <td>0b5948</td>\n",
       "      <td>Male</td>\n",
       "      <td>Inpatient</td>\n",
       "      <td>17-04-2020</td>\n",
       "      <td>10-04-2020</td>\n",
       "      <td>NA</td>\n",
       "      <td>No</td>\n",
       "      <td>Yes</td>\n",
       "      <td>30</td>\n",
       "      <td>NaN</td>\n",
       "      <td>No</td>\n",
       "      <td>No</td>\n",
       "      <td>No</td>\n",
       "      <td>No</td>\n",
       "      <td>No</td>\n",
       "      <td>No</td>\n",
       "      <td>No</td>\n",
       "      <td>No</td>\n",
       "      <td>No</td>\n",
       "      <td>No</td>\n",
       "      <td>NaN</td>\n",
       "      <td>Positive</td>\n",
       "      <td>No</td>\n",
       "    </tr>\n",
       "    <tr>\n",
       "      <th>4</th>\n",
       "      <td>0d01b5</td>\n",
       "      <td>Female</td>\n",
       "      <td>Inpatient</td>\n",
       "      <td>13-04-2020</td>\n",
       "      <td>13-04-2020</td>\n",
       "      <td>22-04-2020</td>\n",
       "      <td>No</td>\n",
       "      <td>No</td>\n",
       "      <td>60</td>\n",
       "      <td>No</td>\n",
       "      <td>Yes</td>\n",
       "      <td>No</td>\n",
       "      <td>No</td>\n",
       "      <td>No</td>\n",
       "      <td>Yes</td>\n",
       "      <td>No</td>\n",
       "      <td>Yes</td>\n",
       "      <td>No</td>\n",
       "      <td>No</td>\n",
       "      <td>No</td>\n",
       "      <td>NaN</td>\n",
       "      <td>Positive</td>\n",
       "      <td>No</td>\n",
       "    </tr>\n",
       "  </tbody>\n",
       "</table>\n",
       "</div>"
      ],
      "text/plain": [
       "       id     sex patient_type  entry_date date_symptoms   date_died intubed  \\\n",
       "0  16169f    Male   Outpatient  04-05-2020    02-05-2020          NA     NaN   \n",
       "1  1009bf    Male   Outpatient  19-03-2020    17-03-2020          NA     NaN   \n",
       "2  167386  Female    Inpatient  06-04-2020    01-04-2020          NA      No   \n",
       "3  0b5948    Male    Inpatient  17-04-2020    10-04-2020          NA      No   \n",
       "4  0d01b5  Female    Inpatient  13-04-2020    13-04-2020  22-04-2020      No   \n",
       "\n",
       "  pneumonia age pregnancy diabetes copd asthma inmsupr hypertension  \\\n",
       "0        No  27       NaN       No   No     No      No           No   \n",
       "1        No  24       NaN       No   No     No      No           No   \n",
       "2        No  54        No       No   No     No      No           No   \n",
       "3       Yes  30       NaN       No   No     No      No           No   \n",
       "4        No  60        No      Yes   No     No      No          Yes   \n",
       "\n",
       "  other_disease cardiovascular obesity renal_chronic tobacco  \\\n",
       "0            No             No      No            No      No   \n",
       "1            No             No      No            No      No   \n",
       "2            No             No     Yes            No      No   \n",
       "3            No             No      No            No      No   \n",
       "4            No            Yes      No            No      No   \n",
       "\n",
       "  contact_other_covid covid_res  icu  \n",
       "0                  No  Positive  NaN  \n",
       "1                 NaN  Positive  NaN  \n",
       "2                 NaN  Positive   No  \n",
       "3                 NaN  Positive   No  \n",
       "4                 NaN  Positive   No  "
      ]
     },
     "execution_count": 74,
     "metadata": {},
     "output_type": "execute_result"
    }
   ],
   "source": [
    "df.head()"
   ]
  },
  {
   "cell_type": "markdown",
   "metadata": {},
   "source": [
    "# Checking for Null Values"
   ]
  },
  {
   "cell_type": "code",
   "execution_count": 75,
   "metadata": {},
   "outputs": [
    {
     "data": {
      "text/plain": [
       "Text(0.5, 1, 'Null value heatmap')"
      ]
     },
     "execution_count": 75,
     "metadata": {},
     "output_type": "execute_result"
    },
    {
     "data": {
      "image/png": "[encoded data removed]",
      "text/plain": [
       "<Figure size 720x576 with 2 Axes>"
      ]
     },
     "metadata": {
      "needs_background": "light"
     },
     "output_type": "display_data"
    }
   ],
   "source": [
    "#Chkecking of Null Values\n",
    "\n",
    "plt.figure(figsize=(10,8))\n",
    "sns.heatmap(df.isnull(),cmap='viridis')\n",
    "plt.title('Null value heatmap',size=25)"
   ]
  },
  {
   "cell_type": "code",
   "execution_count": 76,
   "metadata": {
    "scrolled": true
   },
   "outputs": [
    {
     "data": {
      "text/plain": [
       "id                          0\n",
       "sex                         0\n",
       "patient_type                0\n",
       "entry_date                  0\n",
       "date_symptoms               0\n",
       "date_died                   0\n",
       "intubed                444813\n",
       "pneumonia                  11\n",
       "age                       207\n",
       "pregnancy              288699\n",
       "diabetes                 1981\n",
       "copd                     1749\n",
       "asthma                   1752\n",
       "inmsupr                  1980\n",
       "hypertension             1824\n",
       "other_disease            2598\n",
       "cardiovascular           1822\n",
       "obesity                  1781\n",
       "renal_chronic            1792\n",
       "tobacco                  1907\n",
       "contact_other_covid    175031\n",
       "covid_res                   0\n",
       "icu                    444814\n",
       "dtype: int64"
      ]
     },
     "execution_count": 76,
     "metadata": {},
     "output_type": "execute_result"
    }
   ],
   "source": [
    "df.isnull().sum()"
   ]
  },
  {
   "cell_type": "markdown",
   "metadata": {},
   "source": [
    "# Null Value Imputation"
   ]
  },
  {
   "cell_type": "code",
   "execution_count": 77,
   "metadata": {},
   "outputs": [
    {
     "data": {
      "text/plain": [
       "0"
      ]
     },
     "execution_count": 77,
     "metadata": {},
     "output_type": "execute_result"
    }
   ],
   "source": [
    "df['intubed']=df['intubed'].fillna(0)\n",
    "df['intubed'].isnull().sum()"
   ]
  },
  {
   "cell_type": "code",
   "execution_count": 78,
   "metadata": {},
   "outputs": [
    {
     "data": {
      "text/plain": [
       "0"
      ]
     },
     "execution_count": 78,
     "metadata": {},
     "output_type": "execute_result"
    }
   ],
   "source": [
    "df['pneumonia']=df['pneumonia'].fillna(0)\n",
    "df['pneumonia'].isnull().sum()"
   ]
  },
  {
   "cell_type": "code",
   "execution_count": 79,
   "metadata": {},
   "outputs": [
    {
     "data": {
      "text/plain": [
       "0"
      ]
     },
     "execution_count": 79,
     "metadata": {},
     "output_type": "execute_result"
    }
   ],
   "source": [
    "df['age']=df['age'].fillna(0)\n",
    "df['age'].isnull().sum()"
   ]
  },
  {
   "cell_type": "code",
   "execution_count": 80,
   "metadata": {},
   "outputs": [
    {
     "data": {
      "text/plain": [
       "0"
      ]
     },
     "execution_count": 80,
     "metadata": {},
     "output_type": "execute_result"
    }
   ],
   "source": [
    "df['pregnancy']=df['pregnancy'].fillna(0)\n",
    "df['pregnancy'].isnull().sum()"
   ]
  },
  {
   "cell_type": "code",
   "execution_count": 81,
   "metadata": {},
   "outputs": [
    {
     "data": {
      "text/plain": [
       "0"
      ]
     },
     "execution_count": 81,
     "metadata": {},
     "output_type": "execute_result"
    }
   ],
   "source": [
    "df['diabetes']=df['diabetes'].fillna(0)\n",
    "df['diabetes'].isnull().sum()"
   ]
  },
  {
   "cell_type": "code",
   "execution_count": 82,
   "metadata": {},
   "outputs": [
    {
     "data": {
      "text/plain": [
       "0"
      ]
     },
     "execution_count": 82,
     "metadata": {},
     "output_type": "execute_result"
    }
   ],
   "source": [
    "df['copd']=df['copd'].fillna(0)\n",
    "df['copd'].isnull().sum()"
   ]
  },
  {
   "cell_type": "code",
   "execution_count": 83,
   "metadata": {},
   "outputs": [
    {
     "data": {
      "text/plain": [
       "0"
      ]
     },
     "execution_count": 83,
     "metadata": {},
     "output_type": "execute_result"
    }
   ],
   "source": [
    "df['asthma']=df['asthma'].fillna(0)\n",
    "df['asthma'].isnull().sum()"
   ]
  },
  {
   "cell_type": "code",
   "execution_count": 84,
   "metadata": {},
   "outputs": [
    {
     "data": {
      "text/plain": [
       "0"
      ]
     },
     "execution_count": 84,
     "metadata": {},
     "output_type": "execute_result"
    }
   ],
   "source": [
    "df['inmsupr']=df['inmsupr'].fillna(0)\n",
    "df['inmsupr'].isnull().sum()"
   ]
  },
  {
   "cell_type": "code",
   "execution_count": 85,
   "metadata": {},
   "outputs": [
    {
     "data": {
      "text/plain": [
       "0"
      ]
     },
     "execution_count": 85,
     "metadata": {},
     "output_type": "execute_result"
    }
   ],
   "source": [
    "df['hypertension']=df['hypertension'].fillna(0)\n",
    "df['hypertension'].isnull().sum()"
   ]
  },
  {
   "cell_type": "code",
   "execution_count": 86,
   "metadata": {},
   "outputs": [
    {
     "data": {
      "text/plain": [
       "0"
      ]
     },
     "execution_count": 86,
     "metadata": {},
     "output_type": "execute_result"
    }
   ],
   "source": [
    "df['cardiovascular']=df['cardiovascular'].fillna(0)\n",
    "df['cardiovascular'].isnull().sum()"
   ]
  },
  {
   "cell_type": "code",
   "execution_count": 87,
   "metadata": {},
   "outputs": [
    {
     "data": {
      "text/plain": [
       "0"
      ]
     },
     "execution_count": 87,
     "metadata": {},
     "output_type": "execute_result"
    }
   ],
   "source": [
    "df['obesity']=df['obesity'].fillna(0)\n",
    "df['obesity'].isnull().sum()"
   ]
  },
  {
   "cell_type": "code",
   "execution_count": 88,
   "metadata": {},
   "outputs": [
    {
     "data": {
      "text/plain": [
       "0"
      ]
     },
     "execution_count": 88,
     "metadata": {},
     "output_type": "execute_result"
    }
   ],
   "source": [
    "df['renal_chronic']=df['renal_chronic'].fillna(0)\n",
    "df['renal_chronic'].isnull().sum()"
   ]
  },
  {
   "cell_type": "code",
   "execution_count": 89,
   "metadata": {},
   "outputs": [
    {
     "data": {
      "text/plain": [
       "0"
      ]
     },
     "execution_count": 89,
     "metadata": {},
     "output_type": "execute_result"
    }
   ],
   "source": [
    "df['tobacco']=df['tobacco'].fillna(0)\n",
    "df['tobacco'].isnull().sum()"
   ]
  },
  {
   "cell_type": "code",
   "execution_count": 90,
   "metadata": {},
   "outputs": [
    {
     "data": {
      "text/plain": [
       "0"
      ]
     },
     "execution_count": 90,
     "metadata": {},
     "output_type": "execute_result"
    }
   ],
   "source": [
    "df['contact_other_covid']=df['contact_other_covid'].fillna(0)\n",
    "df['contact_other_covid'].isnull().sum()"
   ]
  },
  {
   "cell_type": "code",
   "execution_count": 91,
   "metadata": {},
   "outputs": [
    {
     "data": {
      "text/plain": [
       "0"
      ]
     },
     "execution_count": 91,
     "metadata": {},
     "output_type": "execute_result"
    }
   ],
   "source": [
    "df['icu']=df['icu'].fillna(0)\n",
    "df['icu'].isnull().sum()"
   ]
  },
  {
   "cell_type": "code",
   "execution_count": 92,
   "metadata": {},
   "outputs": [
    {
     "name": "stdout",
     "output_type": "stream",
     "text": [
      "<class 'pandas.core.frame.DataFrame'>\n",
      "RangeIndex: 566602 entries, 0 to 566601\n",
      "Data columns (total 23 columns):\n",
      "id                     566602 non-null object\n",
      "sex                    566602 non-null object\n",
      "patient_type           566602 non-null object\n",
      "entry_date             566602 non-null object\n",
      "date_symptoms          566602 non-null object\n",
      "date_died              566602 non-null object\n",
      "intubed                566602 non-null object\n",
      "pneumonia              566602 non-null object\n",
      "age                    566602 non-null object\n",
      "pregnancy              566602 non-null object\n",
      "diabetes               566602 non-null object\n",
      "copd                   566602 non-null object\n",
      "asthma                 566602 non-null object\n",
      "inmsupr                566602 non-null object\n",
      "hypertension           566602 non-null object\n",
      "other_disease          564004 non-null object\n",
      "cardiovascular         566602 non-null object\n",
      "obesity                566602 non-null object\n",
      "renal_chronic          566602 non-null object\n",
      "tobacco                566602 non-null object\n",
      "contact_other_covid    566602 non-null object\n",
      "covid_res              566602 non-null object\n",
      "icu                    566602 non-null object\n",
      "dtypes: object(23)\n",
      "memory usage: 99.4+ MB\n"
     ]
    }
   ],
   "source": [
    "df.info()"
   ]
  },
  {
   "cell_type": "markdown",
   "metadata": {},
   "source": [
    "# Column Drop"
   ]
  },
  {
   "cell_type": "code",
   "execution_count": 93,
   "metadata": {},
   "outputs": [
    {
     "data": {
      "text/html": [
       "<div>\n",
       "<style scoped>\n",
       "    .dataframe tbody tr th:only-of-type {\n",
       "        vertical-align: middle;\n",
       "    }\n",
       "\n",
       "    .dataframe tbody tr th {\n",
       "        vertical-align: top;\n",
       "    }\n",
       "\n",
       "    .dataframe thead th {\n",
       "        text-align: right;\n",
       "    }\n",
       "</style>\n",
       "<table border=\"1\" class=\"dataframe\">\n",
       "  <thead>\n",
       "    <tr style=\"text-align: right;\">\n",
       "      <th></th>\n",
       "      <th>sex</th>\n",
       "      <th>patient_type</th>\n",
       "      <th>intubed</th>\n",
       "      <th>pneumonia</th>\n",
       "      <th>age</th>\n",
       "      <th>pregnancy</th>\n",
       "      <th>diabetes</th>\n",
       "      <th>copd</th>\n",
       "      <th>asthma</th>\n",
       "      <th>inmsupr</th>\n",
       "      <th>hypertension</th>\n",
       "      <th>other_disease</th>\n",
       "      <th>cardiovascular</th>\n",
       "      <th>obesity</th>\n",
       "      <th>renal_chronic</th>\n",
       "      <th>tobacco</th>\n",
       "      <th>contact_other_covid</th>\n",
       "      <th>covid_res</th>\n",
       "      <th>icu</th>\n",
       "    </tr>\n",
       "  </thead>\n",
       "  <tbody>\n",
       "    <tr>\n",
       "      <th>0</th>\n",
       "      <td>Male</td>\n",
       "      <td>Outpatient</td>\n",
       "      <td>0</td>\n",
       "      <td>No</td>\n",
       "      <td>27</td>\n",
       "      <td>0</td>\n",
       "      <td>No</td>\n",
       "      <td>No</td>\n",
       "      <td>No</td>\n",
       "      <td>No</td>\n",
       "      <td>No</td>\n",
       "      <td>No</td>\n",
       "      <td>No</td>\n",
       "      <td>No</td>\n",
       "      <td>No</td>\n",
       "      <td>No</td>\n",
       "      <td>No</td>\n",
       "      <td>Positive</td>\n",
       "      <td>0</td>\n",
       "    </tr>\n",
       "    <tr>\n",
       "      <th>1</th>\n",
       "      <td>Male</td>\n",
       "      <td>Outpatient</td>\n",
       "      <td>0</td>\n",
       "      <td>No</td>\n",
       "      <td>24</td>\n",
       "      <td>0</td>\n",
       "      <td>No</td>\n",
       "      <td>No</td>\n",
       "      <td>No</td>\n",
       "      <td>No</td>\n",
       "      <td>No</td>\n",
       "      <td>No</td>\n",
       "      <td>No</td>\n",
       "      <td>No</td>\n",
       "      <td>No</td>\n",
       "      <td>No</td>\n",
       "      <td>0</td>\n",
       "      <td>Positive</td>\n",
       "      <td>0</td>\n",
       "    </tr>\n",
       "    <tr>\n",
       "      <th>2</th>\n",
       "      <td>Female</td>\n",
       "      <td>Inpatient</td>\n",
       "      <td>No</td>\n",
       "      <td>No</td>\n",
       "      <td>54</td>\n",
       "      <td>No</td>\n",
       "      <td>No</td>\n",
       "      <td>No</td>\n",
       "      <td>No</td>\n",
       "      <td>No</td>\n",
       "      <td>No</td>\n",
       "      <td>No</td>\n",
       "      <td>No</td>\n",
       "      <td>Yes</td>\n",
       "      <td>No</td>\n",
       "      <td>No</td>\n",
       "      <td>0</td>\n",
       "      <td>Positive</td>\n",
       "      <td>No</td>\n",
       "    </tr>\n",
       "    <tr>\n",
       "      <th>3</th>\n",
       "      <td>Male</td>\n",
       "      <td>Inpatient</td>\n",
       "      <td>No</td>\n",
       "      <td>Yes</td>\n",
       "      <td>30</td>\n",
       "      <td>0</td>\n",
       "      <td>No</td>\n",
       "      <td>No</td>\n",
       "      <td>No</td>\n",
       "      <td>No</td>\n",
       "      <td>No</td>\n",
       "      <td>No</td>\n",
       "      <td>No</td>\n",
       "      <td>No</td>\n",
       "      <td>No</td>\n",
       "      <td>No</td>\n",
       "      <td>0</td>\n",
       "      <td>Positive</td>\n",
       "      <td>No</td>\n",
       "    </tr>\n",
       "    <tr>\n",
       "      <th>4</th>\n",
       "      <td>Female</td>\n",
       "      <td>Inpatient</td>\n",
       "      <td>No</td>\n",
       "      <td>No</td>\n",
       "      <td>60</td>\n",
       "      <td>No</td>\n",
       "      <td>Yes</td>\n",
       "      <td>No</td>\n",
       "      <td>No</td>\n",
       "      <td>No</td>\n",
       "      <td>Yes</td>\n",
       "      <td>No</td>\n",
       "      <td>Yes</td>\n",
       "      <td>No</td>\n",
       "      <td>No</td>\n",
       "      <td>No</td>\n",
       "      <td>0</td>\n",
       "      <td>Positive</td>\n",
       "      <td>No</td>\n",
       "    </tr>\n",
       "  </tbody>\n",
       "</table>\n",
       "</div>"
      ],
      "text/plain": [
       "      sex patient_type intubed pneumonia age pregnancy diabetes copd asthma  \\\n",
       "0    Male   Outpatient       0        No  27         0       No   No     No   \n",
       "1    Male   Outpatient       0        No  24         0       No   No     No   \n",
       "2  Female    Inpatient      No        No  54        No       No   No     No   \n",
       "3    Male    Inpatient      No       Yes  30         0       No   No     No   \n",
       "4  Female    Inpatient      No        No  60        No      Yes   No     No   \n",
       "\n",
       "  inmsupr hypertension other_disease cardiovascular obesity renal_chronic  \\\n",
       "0      No           No            No             No      No            No   \n",
       "1      No           No            No             No      No            No   \n",
       "2      No           No            No             No     Yes            No   \n",
       "3      No           No            No             No      No            No   \n",
       "4      No          Yes            No            Yes      No            No   \n",
       "\n",
       "  tobacco contact_other_covid covid_res icu  \n",
       "0      No                  No  Positive   0  \n",
       "1      No                   0  Positive   0  \n",
       "2      No                   0  Positive  No  \n",
       "3      No                   0  Positive  No  \n",
       "4      No                   0  Positive  No  "
      ]
     },
     "execution_count": 93,
     "metadata": {},
     "output_type": "execute_result"
    }
   ],
   "source": [
    "df=df.drop(['id','entry_date','date_symptoms','date_died'],axis=1)\n",
    "df.head()"
   ]
  },
  {
   "cell_type": "code",
   "execution_count": 94,
   "metadata": {},
   "outputs": [],
   "source": [
    "df = df.drop(df[df.covid_res=='Results Awaited'].index, axis=0)"
   ]
  },
  {
   "cell_type": "markdown",
   "metadata": {},
   "source": [
    "# Converting Categorical Columns into Numerical"
   ]
  },
  {
   "cell_type": "code",
   "execution_count": 95,
   "metadata": {},
   "outputs": [
    {
     "name": "stdout",
     "output_type": "stream",
     "text": [
      "['sex', 'patient_type', 'intubed', 'pneumonia', 'age', 'pregnancy', 'diabetes', 'copd', 'asthma', 'inmsupr', 'hypertension', 'other_disease', 'cardiovascular', 'obesity', 'renal_chronic', 'tobacco', 'contact_other_covid', 'covid_res', 'icu']\n"
     ]
    }
   ],
   "source": [
    "# Finding Categorical Columns\n",
    "categorical_feature_mask = df.dtypes==object\n",
    "\n",
    "# filter categorical columns using mask and turn it into a list\n",
    "categorical_cols = df.columns[categorical_feature_mask].tolist()\n",
    "print(categorical_cols)"
   ]
  },
  {
   "cell_type": "code",
   "execution_count": 96,
   "metadata": {},
   "outputs": [],
   "source": [
    "for c in categorical_cols:\n",
    "    lbl = LabelEncoder() \n",
    "    lbl.fit(list(df[c].values)) \n",
    "    df[c] = lbl.transform(list(df[c].values))"
   ]
  },
  {
   "cell_type": "code",
   "execution_count": 97,
   "metadata": {},
   "outputs": [
    {
     "name": "stdout",
     "output_type": "stream",
     "text": [
      "<class 'pandas.core.frame.DataFrame'>\n",
      "Int64Index: 499692 entries, 0 to 499691\n",
      "Data columns (total 19 columns):\n",
      "sex                    499692 non-null int64\n",
      "patient_type           499692 non-null int64\n",
      "intubed                499692 non-null int64\n",
      "pneumonia              499692 non-null int64\n",
      "age                    499692 non-null int64\n",
      "pregnancy              499692 non-null int64\n",
      "diabetes               499692 non-null int64\n",
      "copd                   499692 non-null int64\n",
      "asthma                 499692 non-null int64\n",
      "inmsupr                499692 non-null int64\n",
      "hypertension           499692 non-null int64\n",
      "other_disease          499692 non-null int64\n",
      "cardiovascular         499692 non-null int64\n",
      "obesity                499692 non-null int64\n",
      "renal_chronic          499692 non-null int64\n",
      "tobacco                499692 non-null int64\n",
      "contact_other_covid    499692 non-null int64\n",
      "covid_res              499692 non-null int64\n",
      "icu                    499692 non-null int64\n",
      "dtypes: int64(19)\n",
      "memory usage: 76.2 MB\n"
     ]
    }
   ],
   "source": [
    "df.info()"
   ]
  },
  {
   "cell_type": "markdown",
   "metadata": {},
   "source": [
    "# Principal Component Analysis"
   ]
  },
  {
   "cell_type": "code",
   "execution_count": 98,
   "metadata": {},
   "outputs": [
    {
     "data": {
      "text/html": [
       "<div>\n",
       "<style scoped>\n",
       "    .dataframe tbody tr th:only-of-type {\n",
       "        vertical-align: middle;\n",
       "    }\n",
       "\n",
       "    .dataframe tbody tr th {\n",
       "        vertical-align: top;\n",
       "    }\n",
       "\n",
       "    .dataframe thead th {\n",
       "        text-align: right;\n",
       "    }\n",
       "</style>\n",
       "<table border=\"1\" class=\"dataframe\">\n",
       "  <thead>\n",
       "    <tr style=\"text-align: right;\">\n",
       "      <th></th>\n",
       "      <th>sex</th>\n",
       "      <th>patient_type</th>\n",
       "      <th>intubed</th>\n",
       "      <th>pneumonia</th>\n",
       "      <th>age</th>\n",
       "      <th>pregnancy</th>\n",
       "      <th>diabetes</th>\n",
       "      <th>copd</th>\n",
       "      <th>asthma</th>\n",
       "      <th>inmsupr</th>\n",
       "      <th>hypertension</th>\n",
       "      <th>other_disease</th>\n",
       "      <th>cardiovascular</th>\n",
       "      <th>obesity</th>\n",
       "      <th>renal_chronic</th>\n",
       "      <th>tobacco</th>\n",
       "      <th>contact_other_covid</th>\n",
       "      <th>covid_res</th>\n",
       "      <th>icu</th>\n",
       "    </tr>\n",
       "  </thead>\n",
       "  <tbody>\n",
       "    <tr>\n",
       "      <th>0</th>\n",
       "      <td>1</td>\n",
       "      <td>1</td>\n",
       "      <td>0</td>\n",
       "      <td>1</td>\n",
       "      <td>39</td>\n",
       "      <td>0</td>\n",
       "      <td>1</td>\n",
       "      <td>1</td>\n",
       "      <td>1</td>\n",
       "      <td>1</td>\n",
       "      <td>1</td>\n",
       "      <td>0</td>\n",
       "      <td>1</td>\n",
       "      <td>1</td>\n",
       "      <td>1</td>\n",
       "      <td>1</td>\n",
       "      <td>1</td>\n",
       "      <td>1</td>\n",
       "      <td>0</td>\n",
       "    </tr>\n",
       "    <tr>\n",
       "      <th>1</th>\n",
       "      <td>1</td>\n",
       "      <td>1</td>\n",
       "      <td>0</td>\n",
       "      <td>1</td>\n",
       "      <td>36</td>\n",
       "      <td>0</td>\n",
       "      <td>1</td>\n",
       "      <td>1</td>\n",
       "      <td>1</td>\n",
       "      <td>1</td>\n",
       "      <td>1</td>\n",
       "      <td>0</td>\n",
       "      <td>1</td>\n",
       "      <td>1</td>\n",
       "      <td>1</td>\n",
       "      <td>1</td>\n",
       "      <td>0</td>\n",
       "      <td>1</td>\n",
       "      <td>0</td>\n",
       "    </tr>\n",
       "    <tr>\n",
       "      <th>2</th>\n",
       "      <td>0</td>\n",
       "      <td>0</td>\n",
       "      <td>1</td>\n",
       "      <td>1</td>\n",
       "      <td>69</td>\n",
       "      <td>1</td>\n",
       "      <td>1</td>\n",
       "      <td>1</td>\n",
       "      <td>1</td>\n",
       "      <td>1</td>\n",
       "      <td>1</td>\n",
       "      <td>0</td>\n",
       "      <td>1</td>\n",
       "      <td>2</td>\n",
       "      <td>1</td>\n",
       "      <td>1</td>\n",
       "      <td>0</td>\n",
       "      <td>1</td>\n",
       "      <td>1</td>\n",
       "    </tr>\n",
       "    <tr>\n",
       "      <th>3</th>\n",
       "      <td>1</td>\n",
       "      <td>0</td>\n",
       "      <td>1</td>\n",
       "      <td>2</td>\n",
       "      <td>43</td>\n",
       "      <td>0</td>\n",
       "      <td>1</td>\n",
       "      <td>1</td>\n",
       "      <td>1</td>\n",
       "      <td>1</td>\n",
       "      <td>1</td>\n",
       "      <td>0</td>\n",
       "      <td>1</td>\n",
       "      <td>1</td>\n",
       "      <td>1</td>\n",
       "      <td>1</td>\n",
       "      <td>0</td>\n",
       "      <td>1</td>\n",
       "      <td>1</td>\n",
       "    </tr>\n",
       "    <tr>\n",
       "      <th>4</th>\n",
       "      <td>0</td>\n",
       "      <td>0</td>\n",
       "      <td>1</td>\n",
       "      <td>1</td>\n",
       "      <td>76</td>\n",
       "      <td>1</td>\n",
       "      <td>2</td>\n",
       "      <td>1</td>\n",
       "      <td>1</td>\n",
       "      <td>1</td>\n",
       "      <td>2</td>\n",
       "      <td>0</td>\n",
       "      <td>2</td>\n",
       "      <td>1</td>\n",
       "      <td>1</td>\n",
       "      <td>1</td>\n",
       "      <td>0</td>\n",
       "      <td>1</td>\n",
       "      <td>1</td>\n",
       "    </tr>\n",
       "  </tbody>\n",
       "</table>\n",
       "</div>"
      ],
      "text/plain": [
       "   sex  patient_type  intubed  pneumonia  age  pregnancy  diabetes  copd  \\\n",
       "0    1             1        0          1   39          0         1     1   \n",
       "1    1             1        0          1   36          0         1     1   \n",
       "2    0             0        1          1   69          1         1     1   \n",
       "3    1             0        1          2   43          0         1     1   \n",
       "4    0             0        1          1   76          1         2     1   \n",
       "\n",
       "   asthma  inmsupr  hypertension  other_disease  cardiovascular  obesity  \\\n",
       "0       1        1             1              0               1        1   \n",
       "1       1        1             1              0               1        1   \n",
       "2       1        1             1              0               1        2   \n",
       "3       1        1             1              0               1        1   \n",
       "4       1        1             2              0               2        1   \n",
       "\n",
       "   renal_chronic  tobacco  contact_other_covid  covid_res  icu  \n",
       "0              1        1                    1          1    0  \n",
       "1              1        1                    0          1    0  \n",
       "2              1        1                    0          1    1  \n",
       "3              1        1                    0          1    1  \n",
       "4              1        1                    0          1    1  "
      ]
     },
     "execution_count": 98,
     "metadata": {},
     "output_type": "execute_result"
    }
   ],
   "source": [
    "df.head()"
   ]
  },
  {
   "cell_type": "code",
   "execution_count": 99,
   "metadata": {},
   "outputs": [
    {
     "name": "stdout",
     "output_type": "stream",
     "text": [
      "[[1.  1.  0.  ... 0.5 0.5 0. ]\n",
      " [1.  1.  0.  ... 0.5 0.  0. ]\n",
      " [0.  0.  0.5 ... 0.5 0.  0.5]\n",
      " ...\n",
      " [0.  1.  0.  ... 0.5 0.5 0. ]\n",
      " [0.  1.  0.  ... 0.5 1.  0. ]\n",
      " [0.  1.  0.  ... 0.5 0.  0. ]]\n"
     ]
    }
   ],
   "source": [
    "features = ['sex','patient_type','intubed','pneumonia','age','pregnancy','diabetes','copd','asthma','inmsupr','hypertension','other_disease','cardiovascular','obesity','renal_chronic','tobacco','contact_other_covid','icu']\n",
    "# Separating out the features\n",
    "x = df.loc[:, features].values\n",
    "\n",
    "# Separating out the target\n",
    "y = df.loc[:,['covid_res']].values\n",
    "\n",
    "# Standardizing the features\n",
    "x = MinMaxScaler().fit_transform(x)\n",
    "\n",
    "print(x)"
   ]
  },
  {
   "cell_type": "code",
   "execution_count": 100,
   "metadata": {},
   "outputs": [],
   "source": [
    "from sklearn.decomposition import PCA\n",
    "pca = PCA(n_components=0.95)\n",
    "principalComponents = pca.fit_transform(x)"
   ]
  },
  {
   "cell_type": "code",
   "execution_count": 101,
   "metadata": {},
   "outputs": [
    {
     "data": {
      "image/png": "[encoded data removed]",
      "text/plain": [
       "<Figure size 864x432 with 1 Axes>"
      ]
     },
     "metadata": {
      "needs_background": "light"
     },
     "output_type": "display_data"
    }
   ],
   "source": [
    "pca = PCA().fit(x)\n",
    "\n",
    "import matplotlib.pyplot as plt\n",
    "plt.rcParams[\"figure.figsize\"] = (12,6)\n",
    "\n",
    "fig, ax = plt.subplots()\n",
    "xi = np.arange(1, 19, step=1)\n",
    "y = np.cumsum(pca.explained_variance_ratio_)\n",
    "\n",
    "plt.ylim(0.0,1.1)\n",
    "plt.plot(xi, y, marker='o', linestyle='--', color='b')\n",
    "\n",
    "plt.xlabel('Number of Components')\n",
    "plt.xticks(np.arange(0, 19, step=1)) #change from 0-based array index to 1-based human-readable label\n",
    "plt.ylabel('Cumulative variance (%)')\n",
    "plt.title('The number of components needed to explain variance')\n",
    "\n",
    "plt.axhline(y=0.95, color='r', linestyle='-')\n",
    "plt.text(0.5, 0.85, '95% cut-off threshold', color = 'red', fontsize=16)\n",
    "\n",
    "ax.grid(axis='x')\n",
    "plt.show()"
   ]
  },
  {
   "cell_type": "code",
   "execution_count": 102,
   "metadata": {},
   "outputs": [],
   "source": [
    "principalDf = pd.DataFrame(data = principalComponents, columns = [' PC1', 'PC2','PC3','PC4','PC5','PC6','PC7','PC8','PC9'])"
   ]
  },
  {
   "cell_type": "code",
   "execution_count": 103,
   "metadata": {},
   "outputs": [
    {
     "data": {
      "text/html": [
       "<div>\n",
       "<style scoped>\n",
       "    .dataframe tbody tr th:only-of-type {\n",
       "        vertical-align: middle;\n",
       "    }\n",
       "\n",
       "    .dataframe tbody tr th {\n",
       "        vertical-align: top;\n",
       "    }\n",
       "\n",
       "    .dataframe thead th {\n",
       "        text-align: right;\n",
       "    }\n",
       "</style>\n",
       "<table border=\"1\" class=\"dataframe\">\n",
       "  <thead>\n",
       "    <tr style=\"text-align: right;\">\n",
       "      <th></th>\n",
       "      <th>PC1</th>\n",
       "      <th>PC2</th>\n",
       "      <th>PC3</th>\n",
       "      <th>PC4</th>\n",
       "      <th>PC5</th>\n",
       "      <th>PC6</th>\n",
       "      <th>PC7</th>\n",
       "      <th>PC8</th>\n",
       "      <th>PC9</th>\n",
       "    </tr>\n",
       "  </thead>\n",
       "  <tbody>\n",
       "    <tr>\n",
       "      <th>0</th>\n",
       "      <td>0.161532</td>\n",
       "      <td>-0.585047</td>\n",
       "      <td>-0.188504</td>\n",
       "      <td>0.121490</td>\n",
       "      <td>0.001899</td>\n",
       "      <td>0.001432</td>\n",
       "      <td>0.016056</td>\n",
       "      <td>-0.092107</td>\n",
       "      <td>0.061632</td>\n",
       "    </tr>\n",
       "    <tr>\n",
       "      <th>1</th>\n",
       "      <td>0.295229</td>\n",
       "      <td>-0.437108</td>\n",
       "      <td>-0.646309</td>\n",
       "      <td>0.137238</td>\n",
       "      <td>-0.014297</td>\n",
       "      <td>-0.009328</td>\n",
       "      <td>0.019314</td>\n",
       "      <td>-0.104262</td>\n",
       "      <td>0.081243</td>\n",
       "    </tr>\n",
       "    <tr>\n",
       "      <th>2</th>\n",
       "      <td>0.394053</td>\n",
       "      <td>1.121266</td>\n",
       "      <td>-0.106075</td>\n",
       "      <td>0.032821</td>\n",
       "      <td>-0.428819</td>\n",
       "      <td>0.099991</td>\n",
       "      <td>-0.045811</td>\n",
       "      <td>-0.107100</td>\n",
       "      <td>-0.298867</td>\n",
       "    </tr>\n",
       "    <tr>\n",
       "      <th>3</th>\n",
       "      <td>1.196544</td>\n",
       "      <td>0.328638</td>\n",
       "      <td>-0.121142</td>\n",
       "      <td>0.312743</td>\n",
       "      <td>-0.073108</td>\n",
       "      <td>-0.003181</td>\n",
       "      <td>0.029345</td>\n",
       "      <td>0.008301</td>\n",
       "      <td>0.240026</td>\n",
       "    </tr>\n",
       "    <tr>\n",
       "      <th>4</th>\n",
       "      <td>0.462509</td>\n",
       "      <td>1.182721</td>\n",
       "      <td>-0.085158</td>\n",
       "      <td>-0.349097</td>\n",
       "      <td>0.301362</td>\n",
       "      <td>-0.107003</td>\n",
       "      <td>0.021448</td>\n",
       "      <td>-0.311032</td>\n",
       "      <td>-0.174052</td>\n",
       "    </tr>\n",
       "  </tbody>\n",
       "</table>\n",
       "</div>"
      ],
      "text/plain": [
       "        PC1       PC2       PC3       PC4       PC5       PC6       PC7  \\\n",
       "0  0.161532 -0.585047 -0.188504  0.121490  0.001899  0.001432  0.016056   \n",
       "1  0.295229 -0.437108 -0.646309  0.137238 -0.014297 -0.009328  0.019314   \n",
       "2  0.394053  1.121266 -0.106075  0.032821 -0.428819  0.099991 -0.045811   \n",
       "3  1.196544  0.328638 -0.121142  0.312743 -0.073108 -0.003181  0.029345   \n",
       "4  0.462509  1.182721 -0.085158 -0.349097  0.301362 -0.107003  0.021448   \n",
       "\n",
       "        PC8       PC9  \n",
       "0 -0.092107  0.061632  \n",
       "1 -0.104262  0.081243  \n",
       "2 -0.107100 -0.298867  \n",
       "3  0.008301  0.240026  \n",
       "4 -0.311032 -0.174052  "
      ]
     },
     "execution_count": 103,
     "metadata": {},
     "output_type": "execute_result"
    }
   ],
   "source": [
    "principalDf.head()"
   ]
  },
  {
   "cell_type": "code",
   "execution_count": 104,
   "metadata": {},
   "outputs": [],
   "source": [
    "finalDf = pd.concat([principalDf, df[['covid_res']]], axis = 1)"
   ]
  },
  {
   "cell_type": "code",
   "execution_count": 38,
   "metadata": {},
   "outputs": [],
   "source": [
    "# sns.pairplot(finalDf, hue='covid_res')"
   ]
  },
  {
   "cell_type": "markdown",
   "metadata": {},
   "source": [
    "# Train, Test Data Spliting"
   ]
  },
  {
   "cell_type": "code",
   "execution_count": 105,
   "metadata": {},
   "outputs": [],
   "source": [
    "x = principalDf\n",
    "y = df['covid_res']\n",
    "\n",
    "x_train, x_test, y_train, y_test = train_test_split(x, y, test_size=0.3, random_state=0)"
   ]
  },
  {
   "cell_type": "markdown",
   "metadata": {},
   "source": [
    "# Decision Tree"
   ]
  },
  {
   "cell_type": "code",
   "execution_count": 39,
   "metadata": {},
   "outputs": [
    {
     "name": "stdout",
     "output_type": "stream",
     "text": [
      "0.6184726632334498\n",
      "0.6198196244284191\n",
      "0.8193329510703364\n",
      "0.705746771621135\n",
      "[[68588 15124]\n",
      " [42070 24126]]\n",
      "              precision    recall  f1-score   support\n",
      "\n",
      "           0       0.62      0.82      0.71     83712\n",
      "           1       0.61      0.36      0.46     66196\n",
      "\n",
      "    accuracy                           0.62    149908\n",
      "   macro avg       0.62      0.59      0.58    149908\n",
      "weighted avg       0.62      0.62      0.60    149908\n",
      "\n"
     ]
    }
   ],
   "source": [
    "from sklearn import metrics\n",
    "from sklearn import tree\n",
    "\n",
    "dtree = tree.DecisionTreeClassifier()\n",
    "dtree = dtree.fit(x_train, y_train)\n",
    "\n",
    "dtree_pred = dtree.predict(x_test)\n",
    "\n",
    "dtree_accuracy = metrics.accuracy_score(y_test, dtree_pred)\n",
    "print(dtree_accuracy)\n",
    "\n",
    "dtree_precision=metrics.precision_score(y_test, dtree_pred,pos_label=0)\n",
    "print(dtree_precision)\n",
    "\n",
    "dtree_recall=metrics.recall_score(y_test, dtree_pred,pos_label=0)\n",
    "print(dtree_recall)\n",
    "\n",
    "dtree_f1_score= metrics.f1_score(y_test, dtree_pred,pos_label=0)\n",
    "print(dtree_f1_score)\n",
    "\n",
    "print(confusion_matrix(y_test,dtree_pred))\n",
    "print(classification_report(y_test,dtree_pred))"
   ]
  },
  {
   "cell_type": "markdown",
   "metadata": {},
   "source": [
    "# Decision Tree with Cross Validation"
   ]
  },
  {
   "cell_type": "code",
   "execution_count": 40,
   "metadata": {},
   "outputs": [
    {
     "name": "stdout",
     "output_type": "stream",
     "text": [
      "0.6219511279195619\n",
      "0.6220525462683876\n",
      "0.5951766363514192\n",
      "0.5850024249114734\n"
     ]
    }
   ],
   "source": [
    "from sklearn.model_selection import cross_val_score\n",
    "\n",
    "dtree_cross_val_acc = cross_val_score(dtree, x, y, cv=10, scoring='accuracy')\n",
    "\n",
    "dtree_cv_accuracy = dtree_cross_val_acc.mean()\n",
    "print(dtree_cv_accuracy)\n",
    "\n",
    "dtree_cross_val_pre = cross_val_score(dtree, x, y, cv=10, scoring='precision_macro')\n",
    "dtree_cv_precision = dtree_cross_val_pre.mean()\n",
    "print(dtree_cv_precision)\n",
    "\n",
    "dtree_cross_val_re = cross_val_score(dtree, x, y, cv=10, scoring='recall_macro')\n",
    "dtree_cv_recall = dtree_cross_val_re.mean()\n",
    "print(dtree_cv_recall)\n",
    "\n",
    "dtree_cross_val_f1 = cross_val_score(dtree, x, y, cv=10, scoring='f1_macro')\n",
    "dtree_cv_f1_score = dtree_cross_val_f1.mean()\n",
    "print(dtree_cv_f1_score)"
   ]
  },
  {
   "cell_type": "markdown",
   "metadata": {},
   "source": [
    "# Naive Bayes"
   ]
  },
  {
   "cell_type": "code",
   "execution_count": 41,
   "metadata": {},
   "outputs": [
    {
     "name": "stdout",
     "output_type": "stream",
     "text": [
      "0.607492595458548\n",
      "0.6305589383949943\n",
      "0.71748375382263\n",
      "0.6712187926063342\n",
      "[[60062 23650]\n",
      " [35190 31006]]\n",
      "              precision    recall  f1-score   support\n",
      "\n",
      "           0       0.63      0.72      0.67     83712\n",
      "           1       0.57      0.47      0.51     66196\n",
      "\n",
      "    accuracy                           0.61    149908\n",
      "   macro avg       0.60      0.59      0.59    149908\n",
      "weighted avg       0.60      0.61      0.60    149908\n",
      "\n"
     ]
    }
   ],
   "source": [
    "from sklearn.naive_bayes import GaussianNB\n",
    "from sklearn import metrics\n",
    "\n",
    "Nb = GaussianNB()\n",
    "Nb.fit(x_train,y_train)\n",
    "Nb_pred= Nb.predict(x_test)\n",
    "Nb_accuracy = metrics.accuracy_score(y_test, Nb_pred)\n",
    "print(Nb_accuracy)\n",
    "\n",
    "Nb_precision=metrics.precision_score(y_test, Nb_pred,pos_label=0)\n",
    "print(Nb_precision)\n",
    "\n",
    "Nb_recall=metrics.recall_score(y_test, Nb_pred,pos_label=0)\n",
    "print(Nb_recall)\n",
    "\n",
    "Nb_f1_score= metrics.f1_score(y_test, Nb_pred,pos_label=0)\n",
    "print(Nb_f1_score)\n",
    "\n",
    "print(confusion_matrix(y_test,Nb_pred))\n",
    "print(classification_report(y_test,Nb_pred))"
   ]
  },
  {
   "cell_type": "markdown",
   "metadata": {},
   "source": [
    "# Naive Bayes with cross Validation"
   ]
  },
  {
   "cell_type": "code",
   "execution_count": 42,
   "metadata": {},
   "outputs": [
    {
     "name": "stdout",
     "output_type": "stream",
     "text": [
      "0.6109723501718131\n",
      "0.6027542773395304\n",
      "0.5965889125619239\n",
      "0.5959537857153439\n"
     ]
    }
   ],
   "source": [
    "from sklearn.model_selection import cross_val_score\n",
    "\n",
    "Nb_cross_val = cross_val_score(Nb, x, y, cv=10, scoring='accuracy')\n",
    "\n",
    "Nb_cv_accuracy = Nb_cross_val.mean()\n",
    "print(Nb_cv_accuracy)\n",
    "\n",
    "Nb_cross_val_pre = cross_val_score(Nb, x, y, cv=10, scoring='precision_macro')\n",
    "Nb_cv_precision = Nb_cross_val_pre.mean()\n",
    "print(Nb_cv_precision)\n",
    "\n",
    "Nb_cross_val_re = cross_val_score(Nb, x, y, cv=10, scoring='recall_macro')\n",
    "Nb_cv_recall = Nb_cross_val_re.mean()\n",
    "print(Nb_cv_recall)\n",
    "\n",
    "Nb_cross_val_f1 = cross_val_score(Nb, x, y, cv=10, scoring='f1_macro')\n",
    "Nb_cv_f1_score = Nb_cross_val_f1.mean()\n",
    "print(Nb_cv_f1_score)"
   ]
  },
  {
   "cell_type": "markdown",
   "metadata": {},
   "source": [
    "# Random Forest"
   ]
  },
  {
   "cell_type": "code",
   "execution_count": 43,
   "metadata": {},
   "outputs": [
    {
     "name": "stdout",
     "output_type": "stream",
     "text": [
      "0.6196600581690104\n",
      "0.6225171641517054\n",
      "0.8101825305810397\n",
      "0.7040589639779924\n",
      "[[67822 15890]\n",
      " [41126 25070]]\n",
      "              precision    recall  f1-score   support\n",
      "\n",
      "           0       0.62      0.81      0.70     83712\n",
      "           1       0.61      0.38      0.47     66196\n",
      "\n",
      "    accuracy                           0.62    149908\n",
      "   macro avg       0.62      0.59      0.59    149908\n",
      "weighted avg       0.62      0.62      0.60    149908\n",
      "\n"
     ]
    }
   ],
   "source": [
    "from sklearn.ensemble import RandomForestClassifier\n",
    "rnd_for = RandomForestClassifier()\n",
    "rnd_for.fit(x_train, y_train)\n",
    "rnd_for_pred = rnd_for.predict(x_test)\n",
    "rnd_for_accuracy = metrics.accuracy_score(y_test, rnd_for_pred)\n",
    "print(rnd_for_accuracy)\n",
    "\n",
    "rnd_for_precision=metrics.precision_score(y_test, rnd_for_pred,pos_label=0)\n",
    "print(rnd_for_precision)\n",
    "\n",
    "rnd_for_recall=metrics.recall_score(y_test, rnd_for_pred,pos_label=0)\n",
    "print(rnd_for_recall)\n",
    "\n",
    "rnd_for_f1_score= metrics.f1_score(y_test, rnd_for_pred,pos_label=0)\n",
    "print(rnd_for_f1_score)\n",
    "\n",
    "print(confusion_matrix(y_test,rnd_for_pred))\n",
    "print(classification_report(y_test,rnd_for_pred))"
   ]
  },
  {
   "cell_type": "markdown",
   "metadata": {},
   "source": [
    "# Random Forest with Cross Validation"
   ]
  },
  {
   "cell_type": "code",
   "execution_count": null,
   "metadata": {},
   "outputs": [
    {
     "name": "stdout",
     "output_type": "stream",
     "text": [
      "0.6234540451596824\n",
      "0.6216711352527141\n"
     ]
    }
   ],
   "source": [
    "rnd_for_cross_val = cross_val_score(rnd_for, x, y, cv=10, scoring='accuracy')\n",
    "rnd_for_cv_accuracy = rnd_for_cross_val.mean()\n",
    "print(rnd_for_cv_accuracy)\n",
    "\n",
    "rnd_for_cross_val_pre = cross_val_score(rnd_for, x, y, cv=10, scoring='precision_macro')\n",
    "rnd_for_cv_precision = rnd_for_cross_val_pre.mean()\n",
    "print(rnd_for_cv_precision)\n",
    "\n",
    "rnd_for_cross_val_re = cross_val_score(rnd_for, x, y, cv=10, scoring='recall_macro')\n",
    "rnd_for_cv_recall = rnd_for_cross_val_re.mean()\n",
    "print(rnd_for_cv_recall)\n",
    "\n",
    "rnd_for_cross_val_f1 = cross_val_score(rnd_for, x, y, cv=10, scoring='f1_macro')\n",
    "rnd_for_cv_f1_score = rnd_for_cross_val_f1.mean()\n",
    "print(rnd_for_cv_f1_score)"
   ]
  },
  {
   "cell_type": "markdown",
   "metadata": {},
   "source": [
    "# Logistic Regression"
   ]
  },
  {
   "cell_type": "code",
   "execution_count": 108,
   "metadata": {},
   "outputs": [
    {
     "name": "stdout",
     "output_type": "stream",
     "text": [
      "0.6256637404274622\n",
      "0.6216540292717334\n",
      "0.8422687308868502\n",
      "0.7153379461477589\n",
      "[[70508 13204]\n",
      " [42912 23284]]\n",
      "              precision    recall  f1-score   support\n",
      "\n",
      "           0       0.62      0.84      0.72     83712\n",
      "           1       0.64      0.35      0.45     66196\n",
      "\n",
      "    accuracy                           0.63    149908\n",
      "   macro avg       0.63      0.60      0.58    149908\n",
      "weighted avg       0.63      0.63      0.60    149908\n",
      "\n"
     ]
    }
   ],
   "source": [
    "from sklearn.linear_model import LogisticRegression\n",
    "log = LogisticRegression()\n",
    "log.fit(x_train, y_train)\n",
    "log_pred = log.predict(x_test)\n",
    "log_accuracy = metrics.accuracy_score(y_test, log_pred)\n",
    "print(log_accuracy)\n",
    "\n",
    "log_precision=metrics.precision_score(y_test, log_pred,pos_label=0)\n",
    "print(log_precision)\n",
    "\n",
    "log_recall=metrics.recall_score(y_test, log_pred,pos_label=0)\n",
    "print(log_recall)\n",
    "\n",
    "log_f1_score= metrics.f1_score(y_test, log_pred,pos_label=0)\n",
    "print(log_f1_score)\n",
    "\n",
    "print(confusion_matrix(y_test,log_pred))\n",
    "print(classification_report(y_test,log_pred))"
   ]
  },
  {
   "cell_type": "markdown",
   "metadata": {},
   "source": [
    "# Logistic Regression with Cross validation"
   ]
  },
  {
   "cell_type": "code",
   "execution_count": null,
   "metadata": {},
   "outputs": [],
   "source": [
    "log_cross_val = cross_val_score(log, x, y, cv=10, scoring='accuracy')\n",
    "log_cv_accuracy = log_cross_val.mean()\n",
    "print(log_cv_accuracy)\n",
    "\n",
    "log_cross_val_pre = cross_val_score(log, x, y, cv=10, scoring='precision_macro')\n",
    "log_cv_precision = log_cross_val_pre.mean()\n",
    "print(log_cv_precision)\n",
    "\n",
    "log_cross_val_re = cross_val_score(log, x, y, cv=10, scoring='recall_macro')\n",
    "log_cv_recall = log_cross_val_re.mean()\n",
    "print(log_cv_recall)\n",
    "\n",
    "log_cross_val_f1 = cross_val_score(log, x, y, cv=10, scoring='f1_macro')\n",
    "log_cv_f1_score = log_cross_val_f1.mean()\n",
    "print(log_cv_f1_score)"
   ]
  },
  {
   "cell_type": "markdown",
   "metadata": {},
   "source": [
    "# Adaboost"
   ]
  },
  {
   "cell_type": "code",
   "execution_count": 110,
   "metadata": {},
   "outputs": [
    {
     "name": "stdout",
     "output_type": "stream",
     "text": [
      "0.6296261707180404\n",
      "0.6272916102230651\n",
      "0.8297496177370031\n",
      "0.7144546960018926\n",
      "[[69460 14252]\n",
      " [41270 24926]]\n",
      "              precision    recall  f1-score   support\n",
      "\n",
      "           0       0.63      0.83      0.71     83712\n",
      "           1       0.64      0.38      0.47     66196\n",
      "\n",
      "    accuracy                           0.63    149908\n",
      "   macro avg       0.63      0.60      0.59    149908\n",
      "weighted avg       0.63      0.63      0.61    149908\n",
      "\n"
     ]
    }
   ],
   "source": [
    "from sklearn.ensemble import AdaBoostClassifier\n",
    "from sklearn.tree import DecisionTreeClassifier\n",
    "from sklearn import metrics\n",
    "\n",
    "\n",
    "Ada_model=AdaBoostClassifier(DecisionTreeClassifier(max_depth=1),n_estimators=500,learning_rate=0.1)\n",
    "Ada_model.fit(x_train,y_train)\n",
    "ada_pred=Ada_model.predict(x_test)\n",
    "ada_accuracy = metrics.accuracy_score(y_test, ada_pred)\n",
    "print(ada_accuracy)\n",
    "\n",
    "ada_precision=metrics.precision_score(y_test, ada_pred,pos_label=0)\n",
    "print(ada_precision)\n",
    "\n",
    "ada_recall=metrics.recall_score(y_test, ada_pred,pos_label=0)\n",
    "print(ada_recall)\n",
    "\n",
    "ada_f1_score= metrics.f1_score(y_test, ada_pred,pos_label=0)\n",
    "print(ada_f1_score)\n",
    "\n",
    "print(confusion_matrix(y_test,ada_pred))\n",
    "print(classification_report(y_test,ada_pred))"
   ]
  },
  {
   "cell_type": "markdown",
   "metadata": {},
   "source": [
    "# Adaboost with cross Validation"
   ]
  },
  {
   "cell_type": "code",
   "execution_count": null,
   "metadata": {},
   "outputs": [],
   "source": [
    "ada_cross_val = cross_val_score(Ada_model, x, y, cv=10, scoring='accuracy')\n",
    "ada_cv_accuracy = log_cross_val.mean()\n",
    "print(ada_cv_accuracy)\n",
    "\n",
    "ada_cross_val_pre = cross_val_score(Ada_model, x, y, cv=10, scoring='precision_macro')\n",
    "ada_cv_precision = ada_cross_val_pre.mean()\n",
    "print(ada_cv_precision)\n",
    "\n",
    "ada_cross_val_re = cross_val_score(Ada_model, x, y, cv=10, scoring='recall_macro')\n",
    "ada_cv_recall = ada_cross_val_re.mean()\n",
    "print(ada_cv_recall)\n",
    "\n",
    "ada_cross_val_f1 = cross_val_score(Ada_model, x, y, cv=10, scoring='f1_macro')\n",
    "ada_cv_f1_score = ada_cross_val_f1.mean()\n",
    "print(ada_cv_f1_score)\n"
   ]
  },
  {
   "cell_type": "markdown",
   "metadata": {},
   "source": [
    "# KNN"
   ]
  },
  {
   "cell_type": "code",
   "execution_count": 109,
   "metadata": {},
   "outputs": [
    {
     "name": "stdout",
     "output_type": "stream",
     "text": [
      "0.6227019238466259\n",
      "0.6317853537314592\n",
      "0.7774751529051988\n",
      "0.6970995244419691\n",
      "[[65084 18628]\n",
      " [37932 28264]]\n",
      "              precision    recall  f1-score   support\n",
      "\n",
      "           0       0.63      0.78      0.70     83712\n",
      "           1       0.60      0.43      0.50     66196\n",
      "\n",
      "    accuracy                           0.62    149908\n",
      "   macro avg       0.62      0.60      0.60    149908\n",
      "weighted avg       0.62      0.62      0.61    149908\n",
      "\n"
     ]
    }
   ],
   "source": [
    "from sklearn.neighbors import KNeighborsClassifier\n",
    "from sklearn.metrics import accuracy_score\n",
    "knn = KNeighborsClassifier(n_neighbors=35)\n",
    "knn.fit(x_train, y_train)\n",
    "knn_pred = knn.predict(x_test)\n",
    "knn_accuracy = accuracy_score(y_test, knn_pred)\n",
    "print(knn_accuracy)\n",
    "\n",
    "knn_precision=metrics.precision_score(y_test, knn_pred,pos_label=0)\n",
    "print(knn_precision)\n",
    "\n",
    "knn_recall=metrics.recall_score(y_test, knn_pred,pos_label=0)\n",
    "print(knn_recall)\n",
    "\n",
    "knn_f1_score= metrics.f1_score(y_test, knn_pred,pos_label=0)\n",
    "print(knn_f1_score)\n",
    "\n",
    "print(confusion_matrix(y_test,knn_pred))\n",
    "print(classification_report(y_test,knn_pred))"
   ]
  },
  {
   "cell_type": "markdown",
   "metadata": {},
   "source": [
    "# KNN with Cross Validation"
   ]
  },
  {
   "cell_type": "code",
   "execution_count": null,
   "metadata": {},
   "outputs": [],
   "source": [
    "from sklearn.neighbors import KNeighborsClassifier\n",
    "from sklearn.model_selection import cross_val_score\n",
    "\n",
    "knn_cross_val = cross_val_score(knn, x, y, cv=10, scoring='accuracy')\n",
    "knn_cv_accuracy = knn_cross_val.mean()\n",
    "print(knn_cv_accuracy)\n",
    "\n",
    "knn_cross_val_pre = cross_val_score(knn, x, y, cv=10, scoring='precision_macro')\n",
    "knn_cv_precision = knn_cross_val_pre.mean()\n",
    "print(knn_cv_precision)\n",
    "\n",
    "knn_cross_val_re = cross_val_score(knn, x, y, cv=10, scoring='recall_macro')\n",
    "knn_cv_recall = knn_cross_val_re.mean()\n",
    "print(knn_cv_recall)\n",
    "\n",
    "knn_cross_val_f1 = cross_val_score(knn, x, y, cv=10, scoring='f1_macro')\n",
    "knn_cv_f1_score = knn_cross_val_f1.mean()\n",
    "print(knn_cv_f1_score)"
   ]
  },
  {
   "cell_type": "markdown",
   "metadata": {},
   "source": [
    "# Gradient Boosting Classifier"
   ]
  },
  {
   "cell_type": "code",
   "execution_count": 106,
   "metadata": {},
   "outputs": [
    {
     "name": "stdout",
     "output_type": "stream",
     "text": [
      "0.6329815620247085\n",
      "0.6298525565019053\n",
      "0.8312786697247706\n",
      "0.7166816859342413\n",
      "[[69588 14124]\n",
      " [40895 25301]]\n",
      "              precision    recall  f1-score   support\n",
      "\n",
      "           0       0.63      0.83      0.72     83712\n",
      "           1       0.64      0.38      0.48     66196\n",
      "\n",
      "    accuracy                           0.63    149908\n",
      "   macro avg       0.64      0.61      0.60    149908\n",
      "weighted avg       0.64      0.63      0.61    149908\n",
      "\n"
     ]
    }
   ],
   "source": [
    "from sklearn.ensemble import GradientBoostingClassifier\n",
    "\n",
    "Grad_boost = GradientBoostingClassifier()\n",
    "Grad_boost.fit(x_train, y_train)\n",
    "Grad_boost_pred = Grad_boost.predict(x_test)\n",
    "Grad_boost_accuracy = metrics.accuracy_score(y_test, Grad_boost_pred)\n",
    "print(Grad_boost_accuracy)\n",
    "\n",
    "Grad_boost_precision=metrics.precision_score(y_test, Grad_boost_pred,pos_label=0)\n",
    "print(Grad_boost_precision)\n",
    "\n",
    "Grad_boost_recall=metrics.recall_score(y_test, Grad_boost_pred,pos_label=0)\n",
    "print(Grad_boost_recall)\n",
    "\n",
    "Grad_boost_f1_score= metrics.f1_score(y_test, Grad_boost_pred,pos_label=0)\n",
    "print(Grad_boost_f1_score)\n",
    "\n",
    "print(confusion_matrix(y_test,Grad_boost_pred))\n",
    "print(classification_report(y_test,Grad_boost_pred))"
   ]
  },
  {
   "cell_type": "markdown",
   "metadata": {},
   "source": [
    "# Gradient Boosting Classifier with Cross Validation"
   ]
  },
  {
   "cell_type": "code",
   "execution_count": null,
   "metadata": {},
   "outputs": [],
   "source": [
    "Grad_boost_cross_val = cross_val_score(Grad_boost, x, y, cv=10, scoring='accuracy')\n",
    "Grad_boost_cv_accuracy = Grad_boost_cross_val.mean()\n",
    "print(Grad_boost_cv_accuracy)\n",
    "\n",
    "Grad_boost_cross_val_pre = cross_val_score(Grad_boost, x, y, cv=10, scoring='precision_macro')\n",
    "Grad_boost_cv_precision = Grad_boost_cross_val_pre.mean()\n",
    "print(Grad_boost_cv_precision)\n",
    "\n",
    "Grad_boost_cross_val_re = cross_val_score(Grad_boost, x, y, cv=10, scoring='recall_macro')\n",
    "Grad_boost_cv_recall = Grad_boost_cross_val_re.mean()\n",
    "print(Grad_boost_cv_recall)\n",
    "\n",
    "Grad_boost_cross_val_f1 = cross_val_score(Grad_boost, x, y, cv=10, scoring='f1_macro')\n",
    "Grad_boost_cv_f1_score = Grad_boost_cross_val_f1.mean()\n",
    "print(Grad_boost_cv_f1_score)"
   ]
  },
  {
   "cell_type": "markdown",
   "metadata": {},
   "source": [
    "# Multilayer Perceptron"
   ]
  },
  {
   "cell_type": "code",
   "execution_count": 107,
   "metadata": {},
   "outputs": [
    {
     "name": "stdout",
     "output_type": "stream",
     "text": [
      "0.6351162046054913\n",
      "0.631253223310985\n",
      "0.8334288990825688\n",
      "0.7183875202718355\n",
      "[[69768 13944]\n",
      " [40755 25441]]\n",
      "              precision    recall  f1-score   support\n",
      "\n",
      "           0       0.63      0.83      0.72     83712\n",
      "           1       0.65      0.38      0.48     66196\n",
      "\n",
      "    accuracy                           0.64    149908\n",
      "   macro avg       0.64      0.61      0.60    149908\n",
      "weighted avg       0.64      0.64      0.61    149908\n",
      "\n"
     ]
    }
   ],
   "source": [
    "from sklearn.neural_network import MLPClassifier\n",
    "MLP = MLPClassifier(max_iter=200,activation='logistic')\n",
    "MLP.fit(x_train, y_train)\n",
    "MLP_pred = MLP.predict(x_test)\n",
    "MLP_accuracy = metrics.accuracy_score(y_test, MLP_pred)\n",
    "print(MLP_accuracy)\n",
    "\n",
    "MLP_precision=metrics.precision_score(y_test, MLP_pred,pos_label=0)\n",
    "print(MLP_precision)\n",
    "\n",
    "MLP_recall=metrics.recall_score(y_test, MLP_pred,pos_label=0)\n",
    "print(MLP_recall)\n",
    "\n",
    "MLP_f1_score= metrics.f1_score(y_test, MLP_pred,pos_label=0)\n",
    "print(MLP_f1_score)\n",
    "\n",
    "print(confusion_matrix(y_test,MLP_pred))\n",
    "print(classification_report(y_test,MLP_pred))"
   ]
  },
  {
   "cell_type": "markdown",
   "metadata": {},
   "source": [
    "# Multilayer Perceptron with Cross Validation"
   ]
  },
  {
   "cell_type": "code",
   "execution_count": null,
   "metadata": {},
   "outputs": [],
   "source": [
    "MLP_cross_val = cross_val_score(MLP, x, y, cv=10, scoring='accuracy')\n",
    "MLP_cv_accuracy = MLP_cross_val.mean()\n",
    "print(MLP_cv_accuracy)\n",
    "\n",
    "MLP_cross_val_pre = cross_val_score(MLP, x, y, cv=10, scoring='precision_macro')\n",
    "MLP_cv_precision = MLP_cross_val_pre.mean()\n",
    "print(MLP_cv_precision)\n",
    "\n",
    "MLP_cross_val_re = cross_val_score(MLP, x, y, cv=10, scoring='recall_macro')\n",
    "MLP_cv_recall = MLP_cross_val_re.mean()\n",
    "print(MLP_cv_recall)\n",
    "\n",
    "MLP_cross_val_f1 = cross_val_score(MLP, x, y, cv=10, scoring='f1_macro')\n",
    "MLP_cv_f1_score = MLP_cross_val_f1.mean()\n",
    "print(MLP_cv_f1_score)"
   ]
  }
 ],
 "metadata": {
  "kernelspec": {
   "display_name": "Python 3",
   "language": "python",
   "name": "python3"
  },
  "language_info": {
   "codemirror_mode": {
    "name": "ipython",
    "version": 3
   },
   "file_extension": ".py",
   "mimetype": "text/x-python",
   "name": "python",
   "nbconvert_exporter": "python",
   "pygments_lexer": "ipython3",
   "version": "3.7.3"
  }
 },
 "nbformat": 4,
 "nbformat_minor": 2
}
