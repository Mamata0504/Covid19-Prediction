{
 "cells": [
  {
   "cell_type": "markdown",
   "metadata": {},
   "source": [
    "# Risk Analysis of Covid19 Virus"
   ]
  },
  {
   "cell_type": "markdown",
   "metadata": {},
   "source": [
    "As the outbreak of coronavirus disease 2019 (COVID-19) progresses, epidemiological data are needed to guide situational awareness and intervention strategies. The enormous impact of the COVID-19 pandemic is obvious. What many still haven’t realized, however, is that the impact on ongoing data science production setups has been dramatic, too. Artificial Intelligence is actively used in identifying high risk patients at an earlier stage and therefore helps to control the spread of the infection in real-time. This becomes particularly important at this time of crisis because real time monitoring is the best option for people to self-isolate and mitigate the spread of the virus."
   ]
  },
  {
   "cell_type": "markdown",
   "metadata": {},
   "source": [
    "# Objective 1"
   ]
  },
  {
   "cell_type": "markdown",
   "metadata": {},
   "source": [
    "1. Given a person and his/her vital data, predict the viability of a RT-PCR test. Basically predict the probability of risk for the given person. The following data inputs could be provided (you can add 3 more attributes)\n",
    "\n",
    "       a. Name, Age, Gender, Address, Blood Pressure, Cough, Fever, travel history \n",
    "       b. Make sure that an optimum position is obtained for the precision and recall metrics. \n",
    "       c. Give a brief summary of attributes used, domain knowledge employed, and different data sources utilised and entire EDA process. Complete data analysis should be presented. \n",
    "       d. Make an API feature that takes the input of patients as request, and returns the response (probability of infection/ vulnerability)."
   ]
  },
  {
   "cell_type": "code",
   "execution_count": 1,
   "metadata": {},
   "outputs": [],
   "source": [
    "#Importing Libraries\n",
    "import pandas as pd\n",
    "import matplotlib.pyplot as  plt\n",
    "import seaborn as sns\n",
    "import numpy as np\n",
    "from sklearn.preprocessing import LabelEncoder\n",
    "from sklearn.preprocessing import StandardScaler,RobustScaler,PowerTransformer\n",
    "from sklearn.model_selection import train_test_split,cross_val_score\n",
    "from sklearn.metrics import accuracy_score,confusion_matrix,classification_report\n",
    "from sklearn import metrics\n",
    "import warnings\n",
    "warnings.filterwarnings(\"ignore\")"
   ]
  },
  {
   "cell_type": "markdown",
   "metadata": {},
   "source": [
    "# Loading of Data"
   ]
  },
  {
   "cell_type": "code",
   "execution_count": 2,
   "metadata": {},
   "outputs": [
    {
     "data": {
      "text/html": [
       "<div>\n",
       "<style scoped>\n",
       "    .dataframe tbody tr th:only-of-type {\n",
       "        vertical-align: middle;\n",
       "    }\n",
       "\n",
       "    .dataframe tbody tr th {\n",
       "        vertical-align: top;\n",
       "    }\n",
       "\n",
       "    .dataframe thead th {\n",
       "        text-align: right;\n",
       "    }\n",
       "</style>\n",
       "<table border=\"1\" class=\"dataframe\">\n",
       "  <thead>\n",
       "    <tr style=\"text-align: right;\">\n",
       "      <th></th>\n",
       "      <th>id</th>\n",
       "      <th>sex</th>\n",
       "      <th>patient_type</th>\n",
       "      <th>entry_date</th>\n",
       "      <th>date_symptoms</th>\n",
       "      <th>date_died</th>\n",
       "      <th>intubed</th>\n",
       "      <th>pneumonia</th>\n",
       "      <th>age</th>\n",
       "      <th>pregnancy</th>\n",
       "      <th>diabetes</th>\n",
       "      <th>copd</th>\n",
       "      <th>asthma</th>\n",
       "      <th>inmsupr</th>\n",
       "      <th>hypertension</th>\n",
       "      <th>other_disease</th>\n",
       "      <th>cardiovascular</th>\n",
       "      <th>obesity</th>\n",
       "      <th>renal_chronic</th>\n",
       "      <th>tobacco</th>\n",
       "      <th>contact_other_covid</th>\n",
       "      <th>covid_res</th>\n",
       "      <th>icu</th>\n",
       "    </tr>\n",
       "  </thead>\n",
       "  <tbody>\n",
       "    <tr>\n",
       "      <th>0</th>\n",
       "      <td>16169f</td>\n",
       "      <td>2</td>\n",
       "      <td>1</td>\n",
       "      <td>04-05-2020</td>\n",
       "      <td>02-05-2020</td>\n",
       "      <td>9999-99-99</td>\n",
       "      <td>97</td>\n",
       "      <td>2</td>\n",
       "      <td>27</td>\n",
       "      <td>97</td>\n",
       "      <td>2</td>\n",
       "      <td>2</td>\n",
       "      <td>2</td>\n",
       "      <td>2</td>\n",
       "      <td>2</td>\n",
       "      <td>2</td>\n",
       "      <td>2</td>\n",
       "      <td>2</td>\n",
       "      <td>2</td>\n",
       "      <td>2</td>\n",
       "      <td>2</td>\n",
       "      <td>1</td>\n",
       "      <td>97</td>\n",
       "    </tr>\n",
       "    <tr>\n",
       "      <th>1</th>\n",
       "      <td>1009bf</td>\n",
       "      <td>2</td>\n",
       "      <td>1</td>\n",
       "      <td>19-03-2020</td>\n",
       "      <td>17-03-2020</td>\n",
       "      <td>9999-99-99</td>\n",
       "      <td>97</td>\n",
       "      <td>2</td>\n",
       "      <td>24</td>\n",
       "      <td>97</td>\n",
       "      <td>2</td>\n",
       "      <td>2</td>\n",
       "      <td>2</td>\n",
       "      <td>2</td>\n",
       "      <td>2</td>\n",
       "      <td>2</td>\n",
       "      <td>2</td>\n",
       "      <td>2</td>\n",
       "      <td>2</td>\n",
       "      <td>2</td>\n",
       "      <td>99</td>\n",
       "      <td>1</td>\n",
       "      <td>97</td>\n",
       "    </tr>\n",
       "    <tr>\n",
       "      <th>2</th>\n",
       "      <td>167386</td>\n",
       "      <td>1</td>\n",
       "      <td>2</td>\n",
       "      <td>06-04-2020</td>\n",
       "      <td>01-04-2020</td>\n",
       "      <td>9999-99-99</td>\n",
       "      <td>2</td>\n",
       "      <td>2</td>\n",
       "      <td>54</td>\n",
       "      <td>2</td>\n",
       "      <td>2</td>\n",
       "      <td>2</td>\n",
       "      <td>2</td>\n",
       "      <td>2</td>\n",
       "      <td>2</td>\n",
       "      <td>2</td>\n",
       "      <td>2</td>\n",
       "      <td>1</td>\n",
       "      <td>2</td>\n",
       "      <td>2</td>\n",
       "      <td>99</td>\n",
       "      <td>1</td>\n",
       "      <td>2</td>\n",
       "    </tr>\n",
       "    <tr>\n",
       "      <th>3</th>\n",
       "      <td>0b5948</td>\n",
       "      <td>2</td>\n",
       "      <td>2</td>\n",
       "      <td>17-04-2020</td>\n",
       "      <td>10-04-2020</td>\n",
       "      <td>9999-99-99</td>\n",
       "      <td>2</td>\n",
       "      <td>1</td>\n",
       "      <td>30</td>\n",
       "      <td>97</td>\n",
       "      <td>2</td>\n",
       "      <td>2</td>\n",
       "      <td>2</td>\n",
       "      <td>2</td>\n",
       "      <td>2</td>\n",
       "      <td>2</td>\n",
       "      <td>2</td>\n",
       "      <td>2</td>\n",
       "      <td>2</td>\n",
       "      <td>2</td>\n",
       "      <td>99</td>\n",
       "      <td>1</td>\n",
       "      <td>2</td>\n",
       "    </tr>\n",
       "    <tr>\n",
       "      <th>4</th>\n",
       "      <td>0d01b5</td>\n",
       "      <td>1</td>\n",
       "      <td>2</td>\n",
       "      <td>13-04-2020</td>\n",
       "      <td>13-04-2020</td>\n",
       "      <td>22-04-2020</td>\n",
       "      <td>2</td>\n",
       "      <td>2</td>\n",
       "      <td>60</td>\n",
       "      <td>2</td>\n",
       "      <td>1</td>\n",
       "      <td>2</td>\n",
       "      <td>2</td>\n",
       "      <td>2</td>\n",
       "      <td>1</td>\n",
       "      <td>2</td>\n",
       "      <td>1</td>\n",
       "      <td>2</td>\n",
       "      <td>2</td>\n",
       "      <td>2</td>\n",
       "      <td>99</td>\n",
       "      <td>1</td>\n",
       "      <td>2</td>\n",
       "    </tr>\n",
       "  </tbody>\n",
       "</table>\n",
       "</div>"
      ],
      "text/plain": [
       "       id  sex  patient_type  entry_date date_symptoms   date_died  intubed  \\\n",
       "0  16169f    2             1  04-05-2020    02-05-2020  9999-99-99       97   \n",
       "1  1009bf    2             1  19-03-2020    17-03-2020  9999-99-99       97   \n",
       "2  167386    1             2  06-04-2020    01-04-2020  9999-99-99        2   \n",
       "3  0b5948    2             2  17-04-2020    10-04-2020  9999-99-99        2   \n",
       "4  0d01b5    1             2  13-04-2020    13-04-2020  22-04-2020        2   \n",
       "\n",
       "   pneumonia  age  pregnancy  diabetes  copd  asthma  inmsupr  hypertension  \\\n",
       "0          2   27         97         2     2       2        2             2   \n",
       "1          2   24         97         2     2       2        2             2   \n",
       "2          2   54          2         2     2       2        2             2   \n",
       "3          1   30         97         2     2       2        2             2   \n",
       "4          2   60          2         1     2       2        2             1   \n",
       "\n",
       "   other_disease  cardiovascular  obesity  renal_chronic  tobacco  \\\n",
       "0              2               2        2              2        2   \n",
       "1              2               2        2              2        2   \n",
       "2              2               2        1              2        2   \n",
       "3              2               2        2              2        2   \n",
       "4              2               1        2              2        2   \n",
       "\n",
       "   contact_other_covid  covid_res  icu  \n",
       "0                    2          1   97  \n",
       "1                   99          1   97  \n",
       "2                   99          1    2  \n",
       "3                   99          1    2  \n",
       "4                   99          1    2  "
      ]
     },
     "execution_count": 2,
     "metadata": {},
     "output_type": "execute_result"
    }
   ],
   "source": [
    "pd.set_option('display.max_columns',None)\n",
    "df=pd.read_csv(r'D:\\Velocity Corporate Training\\Python\\Databases\\Healthcare Project\\Covid19Precondition\\covid.csv')\n",
    "df.head()"
   ]
  },
  {
   "cell_type": "code",
   "execution_count": 3,
   "metadata": {},
   "outputs": [
    {
     "name": "stdout",
     "output_type": "stream",
     "text": [
      "<class 'pandas.core.frame.DataFrame'>\n",
      "RangeIndex: 566602 entries, 0 to 566601\n",
      "Data columns (total 23 columns):\n",
      "id                     566602 non-null object\n",
      "sex                    566602 non-null int64\n",
      "patient_type           566602 non-null int64\n",
      "entry_date             566602 non-null object\n",
      "date_symptoms          566602 non-null object\n",
      "date_died              566602 non-null object\n",
      "intubed                566602 non-null int64\n",
      "pneumonia              566602 non-null int64\n",
      "age                    566602 non-null int64\n",
      "pregnancy              566602 non-null int64\n",
      "diabetes               566602 non-null int64\n",
      "copd                   566602 non-null int64\n",
      "asthma                 566602 non-null int64\n",
      "inmsupr                566602 non-null int64\n",
      "hypertension           566602 non-null int64\n",
      "other_disease          566602 non-null int64\n",
      "cardiovascular         566602 non-null int64\n",
      "obesity                566602 non-null int64\n",
      "renal_chronic          566602 non-null int64\n",
      "tobacco                566602 non-null int64\n",
      "contact_other_covid    566602 non-null int64\n",
      "covid_res              566602 non-null int64\n",
      "icu                    566602 non-null int64\n",
      "dtypes: int64(19), object(4)\n",
      "memory usage: 99.4+ MB\n"
     ]
    }
   ],
   "source": [
    "df.info()"
   ]
  },
  {
   "cell_type": "code",
   "execution_count": 4,
   "metadata": {},
   "outputs": [
    {
     "data": {
      "text/html": [
       "<div>\n",
       "<style scoped>\n",
       "    .dataframe tbody tr th:only-of-type {\n",
       "        vertical-align: middle;\n",
       "    }\n",
       "\n",
       "    .dataframe tbody tr th {\n",
       "        vertical-align: top;\n",
       "    }\n",
       "\n",
       "    .dataframe thead th {\n",
       "        text-align: right;\n",
       "    }\n",
       "</style>\n",
       "<table border=\"1\" class=\"dataframe\">\n",
       "  <thead>\n",
       "    <tr style=\"text-align: right;\">\n",
       "      <th></th>\n",
       "      <th>sex</th>\n",
       "      <th>patient_type</th>\n",
       "      <th>intubed</th>\n",
       "      <th>pneumonia</th>\n",
       "      <th>age</th>\n",
       "      <th>pregnancy</th>\n",
       "      <th>diabetes</th>\n",
       "      <th>copd</th>\n",
       "      <th>asthma</th>\n",
       "      <th>inmsupr</th>\n",
       "      <th>hypertension</th>\n",
       "      <th>other_disease</th>\n",
       "      <th>cardiovascular</th>\n",
       "      <th>obesity</th>\n",
       "      <th>renal_chronic</th>\n",
       "      <th>tobacco</th>\n",
       "      <th>contact_other_covid</th>\n",
       "      <th>covid_res</th>\n",
       "      <th>icu</th>\n",
       "    </tr>\n",
       "  </thead>\n",
       "  <tbody>\n",
       "    <tr>\n",
       "      <th>count</th>\n",
       "      <td>566602.000000</td>\n",
       "      <td>566602.000000</td>\n",
       "      <td>566602.000000</td>\n",
       "      <td>566602.000000</td>\n",
       "      <td>566602.000000</td>\n",
       "      <td>566602.000000</td>\n",
       "      <td>566602.000000</td>\n",
       "      <td>566602.000000</td>\n",
       "      <td>566602.000000</td>\n",
       "      <td>566602.000000</td>\n",
       "      <td>566602.000000</td>\n",
       "      <td>566602.000000</td>\n",
       "      <td>566602.000000</td>\n",
       "      <td>566602.000000</td>\n",
       "      <td>566602.000000</td>\n",
       "      <td>566602.000000</td>\n",
       "      <td>566602.000000</td>\n",
       "      <td>566602.000000</td>\n",
       "      <td>566602.000000</td>\n",
       "    </tr>\n",
       "    <tr>\n",
       "      <th>mean</th>\n",
       "      <td>1.506726</td>\n",
       "      <td>1.215165</td>\n",
       "      <td>76.562952</td>\n",
       "      <td>1.846262</td>\n",
       "      <td>42.622483</td>\n",
       "      <td>50.400692</td>\n",
       "      <td>2.210633</td>\n",
       "      <td>2.280221</td>\n",
       "      <td>2.265029</td>\n",
       "      <td>2.319628</td>\n",
       "      <td>2.145774</td>\n",
       "      <td>2.410030</td>\n",
       "      <td>2.286157</td>\n",
       "      <td>2.138905</td>\n",
       "      <td>2.283765</td>\n",
       "      <td>2.238360</td>\n",
       "      <td>31.573034</td>\n",
       "      <td>1.728651</td>\n",
       "      <td>76.562864</td>\n",
       "    </tr>\n",
       "    <tr>\n",
       "      <th>std</th>\n",
       "      <td>0.499955</td>\n",
       "      <td>0.410937</td>\n",
       "      <td>39.058676</td>\n",
       "      <td>0.560939</td>\n",
       "      <td>16.659973</td>\n",
       "      <td>47.501579</td>\n",
       "      <td>5.683523</td>\n",
       "      <td>5.327832</td>\n",
       "      <td>5.334658</td>\n",
       "      <td>5.667381</td>\n",
       "      <td>5.459866</td>\n",
       "      <td>6.489959</td>\n",
       "      <td>5.438405</td>\n",
       "      <td>5.395578</td>\n",
       "      <td>5.393232</td>\n",
       "      <td>5.571901</td>\n",
       "      <td>45.082123</td>\n",
       "      <td>0.658710</td>\n",
       "      <td>39.059060</td>\n",
       "    </tr>\n",
       "    <tr>\n",
       "      <th>min</th>\n",
       "      <td>1.000000</td>\n",
       "      <td>1.000000</td>\n",
       "      <td>1.000000</td>\n",
       "      <td>1.000000</td>\n",
       "      <td>0.000000</td>\n",
       "      <td>1.000000</td>\n",
       "      <td>1.000000</td>\n",
       "      <td>1.000000</td>\n",
       "      <td>1.000000</td>\n",
       "      <td>1.000000</td>\n",
       "      <td>1.000000</td>\n",
       "      <td>1.000000</td>\n",
       "      <td>1.000000</td>\n",
       "      <td>1.000000</td>\n",
       "      <td>1.000000</td>\n",
       "      <td>1.000000</td>\n",
       "      <td>1.000000</td>\n",
       "      <td>1.000000</td>\n",
       "      <td>1.000000</td>\n",
       "    </tr>\n",
       "    <tr>\n",
       "      <th>25%</th>\n",
       "      <td>1.000000</td>\n",
       "      <td>1.000000</td>\n",
       "      <td>97.000000</td>\n",
       "      <td>2.000000</td>\n",
       "      <td>31.000000</td>\n",
       "      <td>2.000000</td>\n",
       "      <td>2.000000</td>\n",
       "      <td>2.000000</td>\n",
       "      <td>2.000000</td>\n",
       "      <td>2.000000</td>\n",
       "      <td>2.000000</td>\n",
       "      <td>2.000000</td>\n",
       "      <td>2.000000</td>\n",
       "      <td>2.000000</td>\n",
       "      <td>2.000000</td>\n",
       "      <td>2.000000</td>\n",
       "      <td>1.000000</td>\n",
       "      <td>1.000000</td>\n",
       "      <td>97.000000</td>\n",
       "    </tr>\n",
       "    <tr>\n",
       "      <th>50%</th>\n",
       "      <td>2.000000</td>\n",
       "      <td>1.000000</td>\n",
       "      <td>97.000000</td>\n",
       "      <td>2.000000</td>\n",
       "      <td>41.000000</td>\n",
       "      <td>97.000000</td>\n",
       "      <td>2.000000</td>\n",
       "      <td>2.000000</td>\n",
       "      <td>2.000000</td>\n",
       "      <td>2.000000</td>\n",
       "      <td>2.000000</td>\n",
       "      <td>2.000000</td>\n",
       "      <td>2.000000</td>\n",
       "      <td>2.000000</td>\n",
       "      <td>2.000000</td>\n",
       "      <td>2.000000</td>\n",
       "      <td>2.000000</td>\n",
       "      <td>2.000000</td>\n",
       "      <td>97.000000</td>\n",
       "    </tr>\n",
       "    <tr>\n",
       "      <th>75%</th>\n",
       "      <td>2.000000</td>\n",
       "      <td>1.000000</td>\n",
       "      <td>97.000000</td>\n",
       "      <td>2.000000</td>\n",
       "      <td>53.000000</td>\n",
       "      <td>97.000000</td>\n",
       "      <td>2.000000</td>\n",
       "      <td>2.000000</td>\n",
       "      <td>2.000000</td>\n",
       "      <td>2.000000</td>\n",
       "      <td>2.000000</td>\n",
       "      <td>2.000000</td>\n",
       "      <td>2.000000</td>\n",
       "      <td>2.000000</td>\n",
       "      <td>2.000000</td>\n",
       "      <td>2.000000</td>\n",
       "      <td>99.000000</td>\n",
       "      <td>2.000000</td>\n",
       "      <td>97.000000</td>\n",
       "    </tr>\n",
       "    <tr>\n",
       "      <th>max</th>\n",
       "      <td>2.000000</td>\n",
       "      <td>2.000000</td>\n",
       "      <td>99.000000</td>\n",
       "      <td>99.000000</td>\n",
       "      <td>120.000000</td>\n",
       "      <td>98.000000</td>\n",
       "      <td>98.000000</td>\n",
       "      <td>98.000000</td>\n",
       "      <td>98.000000</td>\n",
       "      <td>98.000000</td>\n",
       "      <td>98.000000</td>\n",
       "      <td>98.000000</td>\n",
       "      <td>98.000000</td>\n",
       "      <td>98.000000</td>\n",
       "      <td>98.000000</td>\n",
       "      <td>98.000000</td>\n",
       "      <td>99.000000</td>\n",
       "      <td>3.000000</td>\n",
       "      <td>99.000000</td>\n",
       "    </tr>\n",
       "  </tbody>\n",
       "</table>\n",
       "</div>"
      ],
      "text/plain": [
       "                 sex   patient_type        intubed      pneumonia  \\\n",
       "count  566602.000000  566602.000000  566602.000000  566602.000000   \n",
       "mean        1.506726       1.215165      76.562952       1.846262   \n",
       "std         0.499955       0.410937      39.058676       0.560939   \n",
       "min         1.000000       1.000000       1.000000       1.000000   \n",
       "25%         1.000000       1.000000      97.000000       2.000000   \n",
       "50%         2.000000       1.000000      97.000000       2.000000   \n",
       "75%         2.000000       1.000000      97.000000       2.000000   \n",
       "max         2.000000       2.000000      99.000000      99.000000   \n",
       "\n",
       "                 age      pregnancy       diabetes           copd  \\\n",
       "count  566602.000000  566602.000000  566602.000000  566602.000000   \n",
       "mean       42.622483      50.400692       2.210633       2.280221   \n",
       "std        16.659973      47.501579       5.683523       5.327832   \n",
       "min         0.000000       1.000000       1.000000       1.000000   \n",
       "25%        31.000000       2.000000       2.000000       2.000000   \n",
       "50%        41.000000      97.000000       2.000000       2.000000   \n",
       "75%        53.000000      97.000000       2.000000       2.000000   \n",
       "max       120.000000      98.000000      98.000000      98.000000   \n",
       "\n",
       "              asthma        inmsupr   hypertension  other_disease  \\\n",
       "count  566602.000000  566602.000000  566602.000000  566602.000000   \n",
       "mean        2.265029       2.319628       2.145774       2.410030   \n",
       "std         5.334658       5.667381       5.459866       6.489959   \n",
       "min         1.000000       1.000000       1.000000       1.000000   \n",
       "25%         2.000000       2.000000       2.000000       2.000000   \n",
       "50%         2.000000       2.000000       2.000000       2.000000   \n",
       "75%         2.000000       2.000000       2.000000       2.000000   \n",
       "max        98.000000      98.000000      98.000000      98.000000   \n",
       "\n",
       "       cardiovascular        obesity  renal_chronic        tobacco  \\\n",
       "count   566602.000000  566602.000000  566602.000000  566602.000000   \n",
       "mean         2.286157       2.138905       2.283765       2.238360   \n",
       "std          5.438405       5.395578       5.393232       5.571901   \n",
       "min          1.000000       1.000000       1.000000       1.000000   \n",
       "25%          2.000000       2.000000       2.000000       2.000000   \n",
       "50%          2.000000       2.000000       2.000000       2.000000   \n",
       "75%          2.000000       2.000000       2.000000       2.000000   \n",
       "max         98.000000      98.000000      98.000000      98.000000   \n",
       "\n",
       "       contact_other_covid      covid_res            icu  \n",
       "count        566602.000000  566602.000000  566602.000000  \n",
       "mean             31.573034       1.728651      76.562864  \n",
       "std              45.082123       0.658710      39.059060  \n",
       "min               1.000000       1.000000       1.000000  \n",
       "25%               1.000000       1.000000      97.000000  \n",
       "50%               2.000000       2.000000      97.000000  \n",
       "75%              99.000000       2.000000      97.000000  \n",
       "max              99.000000       3.000000      99.000000  "
      ]
     },
     "execution_count": 4,
     "metadata": {},
     "output_type": "execute_result"
    }
   ],
   "source": [
    "df.describe()"
   ]
  },
  {
   "cell_type": "code",
   "execution_count": 5,
   "metadata": {},
   "outputs": [
    {
     "data": {
      "text/plain": [
       "Index(['id', 'sex', 'patient_type', 'entry_date', 'date_symptoms', 'date_died',\n",
       "       'intubed', 'pneumonia', 'age', 'pregnancy', 'diabetes', 'copd',\n",
       "       'asthma', 'inmsupr', 'hypertension', 'other_disease', 'cardiovascular',\n",
       "       'obesity', 'renal_chronic', 'tobacco', 'contact_other_covid',\n",
       "       'covid_res', 'icu'],\n",
       "      dtype='object')"
      ]
     },
     "execution_count": 5,
     "metadata": {},
     "output_type": "execute_result"
    }
   ],
   "source": [
    "df.columns"
   ]
  },
  {
   "cell_type": "markdown",
   "metadata": {},
   "source": [
    "# Data Description"
   ]
  },
  {
   "cell_type": "markdown",
   "metadata": {},
   "source": [
    "    (a) Sex\n",
    "        1: Female\n",
    "\n",
    "        2: Male\n",
    "\n",
    "    (b) Patient_type\n",
    "        1: Outpatient\n",
    "\n",
    "        2: Inpatient\n",
    "\n",
    "    (c) Columns with details like pregnancy, diabetes,copd,asthma , etc.\n",
    "        1: Yes\n",
    "\n",
    "        2: No\n",
    "\n",
    "    Others (97,98,99) : Not available"
   ]
  },
  {
   "cell_type": "markdown",
   "metadata": {},
   "source": [
    "# Feature Conversion into Proper Caategories"
   ]
  },
  {
   "cell_type": "code",
   "execution_count": 6,
   "metadata": {},
   "outputs": [],
   "source": [
    "df['sex']=df['sex'].replace({1:'Female',2:'Male'})\n",
    "df['patient_type']=df['patient_type'].replace({1:'Outpatient',2:'Inpatient'})\n",
    "df['covid_res']=df['covid_res'].replace({1:'Positive',2:'Negative',3:'Results Awaited'})\n",
    "df['date_died']=df['date_died'].replace({'9999-99-99':'NA'})\n",
    "df.iloc[:,6:]=df.iloc[:,6:].replace([97,98,99],np.nan)\n",
    "df.iloc[:,6:]=df.iloc[:,6:].replace(1,'Yes')\n",
    "df.iloc[:,6:]=df.iloc[:,6:].replace(2,'No')"
   ]
  },
  {
   "cell_type": "code",
   "execution_count": 7,
   "metadata": {},
   "outputs": [
    {
     "data": {
      "text/html": [
       "<div>\n",
       "<style scoped>\n",
       "    .dataframe tbody tr th:only-of-type {\n",
       "        vertical-align: middle;\n",
       "    }\n",
       "\n",
       "    .dataframe tbody tr th {\n",
       "        vertical-align: top;\n",
       "    }\n",
       "\n",
       "    .dataframe thead th {\n",
       "        text-align: right;\n",
       "    }\n",
       "</style>\n",
       "<table border=\"1\" class=\"dataframe\">\n",
       "  <thead>\n",
       "    <tr style=\"text-align: right;\">\n",
       "      <th></th>\n",
       "      <th>id</th>\n",
       "      <th>sex</th>\n",
       "      <th>patient_type</th>\n",
       "      <th>entry_date</th>\n",
       "      <th>date_symptoms</th>\n",
       "      <th>date_died</th>\n",
       "      <th>intubed</th>\n",
       "      <th>pneumonia</th>\n",
       "      <th>age</th>\n",
       "      <th>pregnancy</th>\n",
       "      <th>diabetes</th>\n",
       "      <th>copd</th>\n",
       "      <th>asthma</th>\n",
       "      <th>inmsupr</th>\n",
       "      <th>hypertension</th>\n",
       "      <th>other_disease</th>\n",
       "      <th>cardiovascular</th>\n",
       "      <th>obesity</th>\n",
       "      <th>renal_chronic</th>\n",
       "      <th>tobacco</th>\n",
       "      <th>contact_other_covid</th>\n",
       "      <th>covid_res</th>\n",
       "      <th>icu</th>\n",
       "    </tr>\n",
       "  </thead>\n",
       "  <tbody>\n",
       "    <tr>\n",
       "      <th>0</th>\n",
       "      <td>16169f</td>\n",
       "      <td>Male</td>\n",
       "      <td>Outpatient</td>\n",
       "      <td>04-05-2020</td>\n",
       "      <td>02-05-2020</td>\n",
       "      <td>NA</td>\n",
       "      <td>NaN</td>\n",
       "      <td>No</td>\n",
       "      <td>27</td>\n",
       "      <td>NaN</td>\n",
       "      <td>No</td>\n",
       "      <td>No</td>\n",
       "      <td>No</td>\n",
       "      <td>No</td>\n",
       "      <td>No</td>\n",
       "      <td>No</td>\n",
       "      <td>No</td>\n",
       "      <td>No</td>\n",
       "      <td>No</td>\n",
       "      <td>No</td>\n",
       "      <td>No</td>\n",
       "      <td>Positive</td>\n",
       "      <td>NaN</td>\n",
       "    </tr>\n",
       "    <tr>\n",
       "      <th>1</th>\n",
       "      <td>1009bf</td>\n",
       "      <td>Male</td>\n",
       "      <td>Outpatient</td>\n",
       "      <td>19-03-2020</td>\n",
       "      <td>17-03-2020</td>\n",
       "      <td>NA</td>\n",
       "      <td>NaN</td>\n",
       "      <td>No</td>\n",
       "      <td>24</td>\n",
       "      <td>NaN</td>\n",
       "      <td>No</td>\n",
       "      <td>No</td>\n",
       "      <td>No</td>\n",
       "      <td>No</td>\n",
       "      <td>No</td>\n",
       "      <td>No</td>\n",
       "      <td>No</td>\n",
       "      <td>No</td>\n",
       "      <td>No</td>\n",
       "      <td>No</td>\n",
       "      <td>NaN</td>\n",
       "      <td>Positive</td>\n",
       "      <td>NaN</td>\n",
       "    </tr>\n",
       "    <tr>\n",
       "      <th>2</th>\n",
       "      <td>167386</td>\n",
       "      <td>Female</td>\n",
       "      <td>Inpatient</td>\n",
       "      <td>06-04-2020</td>\n",
       "      <td>01-04-2020</td>\n",
       "      <td>NA</td>\n",
       "      <td>No</td>\n",
       "      <td>No</td>\n",
       "      <td>54</td>\n",
       "      <td>No</td>\n",
       "      <td>No</td>\n",
       "      <td>No</td>\n",
       "      <td>No</td>\n",
       "      <td>No</td>\n",
       "      <td>No</td>\n",
       "      <td>No</td>\n",
       "      <td>No</td>\n",
       "      <td>Yes</td>\n",
       "      <td>No</td>\n",
       "      <td>No</td>\n",
       "      <td>NaN</td>\n",
       "      <td>Positive</td>\n",
       "      <td>No</td>\n",
       "    </tr>\n",
       "    <tr>\n",
       "      <th>3</th>\n",
       "      <td>0b5948</td>\n",
       "      <td>Male</td>\n",
       "      <td>Inpatient</td>\n",
       "      <td>17-04-2020</td>\n",
       "      <td>10-04-2020</td>\n",
       "      <td>NA</td>\n",
       "      <td>No</td>\n",
       "      <td>Yes</td>\n",
       "      <td>30</td>\n",
       "      <td>NaN</td>\n",
       "      <td>No</td>\n",
       "      <td>No</td>\n",
       "      <td>No</td>\n",
       "      <td>No</td>\n",
       "      <td>No</td>\n",
       "      <td>No</td>\n",
       "      <td>No</td>\n",
       "      <td>No</td>\n",
       "      <td>No</td>\n",
       "      <td>No</td>\n",
       "      <td>NaN</td>\n",
       "      <td>Positive</td>\n",
       "      <td>No</td>\n",
       "    </tr>\n",
       "    <tr>\n",
       "      <th>4</th>\n",
       "      <td>0d01b5</td>\n",
       "      <td>Female</td>\n",
       "      <td>Inpatient</td>\n",
       "      <td>13-04-2020</td>\n",
       "      <td>13-04-2020</td>\n",
       "      <td>22-04-2020</td>\n",
       "      <td>No</td>\n",
       "      <td>No</td>\n",
       "      <td>60</td>\n",
       "      <td>No</td>\n",
       "      <td>Yes</td>\n",
       "      <td>No</td>\n",
       "      <td>No</td>\n",
       "      <td>No</td>\n",
       "      <td>Yes</td>\n",
       "      <td>No</td>\n",
       "      <td>Yes</td>\n",
       "      <td>No</td>\n",
       "      <td>No</td>\n",
       "      <td>No</td>\n",
       "      <td>NaN</td>\n",
       "      <td>Positive</td>\n",
       "      <td>No</td>\n",
       "    </tr>\n",
       "  </tbody>\n",
       "</table>\n",
       "</div>"
      ],
      "text/plain": [
       "       id     sex patient_type  entry_date date_symptoms   date_died intubed  \\\n",
       "0  16169f    Male   Outpatient  04-05-2020    02-05-2020          NA     NaN   \n",
       "1  1009bf    Male   Outpatient  19-03-2020    17-03-2020          NA     NaN   \n",
       "2  167386  Female    Inpatient  06-04-2020    01-04-2020          NA      No   \n",
       "3  0b5948    Male    Inpatient  17-04-2020    10-04-2020          NA      No   \n",
       "4  0d01b5  Female    Inpatient  13-04-2020    13-04-2020  22-04-2020      No   \n",
       "\n",
       "  pneumonia age pregnancy diabetes copd asthma inmsupr hypertension  \\\n",
       "0        No  27       NaN       No   No     No      No           No   \n",
       "1        No  24       NaN       No   No     No      No           No   \n",
       "2        No  54        No       No   No     No      No           No   \n",
       "3       Yes  30       NaN       No   No     No      No           No   \n",
       "4        No  60        No      Yes   No     No      No          Yes   \n",
       "\n",
       "  other_disease cardiovascular obesity renal_chronic tobacco  \\\n",
       "0            No             No      No            No      No   \n",
       "1            No             No      No            No      No   \n",
       "2            No             No     Yes            No      No   \n",
       "3            No             No      No            No      No   \n",
       "4            No            Yes      No            No      No   \n",
       "\n",
       "  contact_other_covid covid_res  icu  \n",
       "0                  No  Positive  NaN  \n",
       "1                 NaN  Positive  NaN  \n",
       "2                 NaN  Positive   No  \n",
       "3                 NaN  Positive   No  \n",
       "4                 NaN  Positive   No  "
      ]
     },
     "execution_count": 7,
     "metadata": {},
     "output_type": "execute_result"
    }
   ],
   "source": [
    "df.head()"
   ]
  },
  {
   "cell_type": "markdown",
   "metadata": {},
   "source": [
    "# Checking for Null Values"
   ]
  },
  {
   "cell_type": "code",
   "execution_count": 8,
   "metadata": {},
   "outputs": [
    {
     "data": {
      "text/plain": [
       "Text(0.5, 1, 'Null value heatmap')"
      ]
     },
     "execution_count": 8,
     "metadata": {},
     "output_type": "execute_result"
    },
    {
     "data": {
      "image/png": "[encoded data removed]",
      "text/plain": [
       "<Figure size 720x576 with 2 Axes>"
      ]
     },
     "metadata": {
      "needs_background": "light"
     },
     "output_type": "display_data"
    }
   ],
   "source": [
    "#Chkecking of Null Values\n",
    "\n",
    "plt.figure(figsize=(10,8))\n",
    "sns.heatmap(df.isnull(),cmap='viridis')\n",
    "plt.title('Null value heatmap',size=25)"
   ]
  },
  {
   "cell_type": "code",
   "execution_count": 9,
   "metadata": {
    "scrolled": true
   },
   "outputs": [
    {
     "data": {
      "text/plain": [
       "id                          0\n",
       "sex                         0\n",
       "patient_type                0\n",
       "entry_date                  0\n",
       "date_symptoms               0\n",
       "date_died                   0\n",
       "intubed                444813\n",
       "pneumonia                  11\n",
       "age                       207\n",
       "pregnancy              288699\n",
       "diabetes                 1981\n",
       "copd                     1749\n",
       "asthma                   1752\n",
       "inmsupr                  1980\n",
       "hypertension             1824\n",
       "other_disease            2598\n",
       "cardiovascular           1822\n",
       "obesity                  1781\n",
       "renal_chronic            1792\n",
       "tobacco                  1907\n",
       "contact_other_covid    175031\n",
       "covid_res                   0\n",
       "icu                    444814\n",
       "dtype: int64"
      ]
     },
     "execution_count": 9,
     "metadata": {},
     "output_type": "execute_result"
    }
   ],
   "source": [
    "df.isnull().sum()"
   ]
  },
  {
   "cell_type": "markdown",
   "metadata": {},
   "source": [
    "# Null Value Imputation"
   ]
  },
  {
   "cell_type": "code",
   "execution_count": 10,
   "metadata": {},
   "outputs": [
    {
     "data": {
      "text/plain": [
       "0"
      ]
     },
     "execution_count": 10,
     "metadata": {},
     "output_type": "execute_result"
    }
   ],
   "source": [
    "df['intubed']=df['intubed'].fillna(df['intubed'].mode()[0])\n",
    "df['intubed'].isnull().sum()"
   ]
  },
  {
   "cell_type": "code",
   "execution_count": 11,
   "metadata": {},
   "outputs": [
    {
     "data": {
      "text/plain": [
       "0"
      ]
     },
     "execution_count": 11,
     "metadata": {},
     "output_type": "execute_result"
    }
   ],
   "source": [
    "df['pneumonia']=df['pneumonia'].fillna(df['pneumonia'].mode()[0])\n",
    "df['pneumonia'].isnull().sum()"
   ]
  },
  {
   "cell_type": "code",
   "execution_count": 12,
   "metadata": {},
   "outputs": [
    {
     "data": {
      "text/plain": [
       "0"
      ]
     },
     "execution_count": 12,
     "metadata": {},
     "output_type": "execute_result"
    }
   ],
   "source": [
    "df['age']=df['age'].fillna(df['age'].mode()[0])\n",
    "df['age'].isnull().sum()"
   ]
  },
  {
   "cell_type": "code",
   "execution_count": 13,
   "metadata": {},
   "outputs": [
    {
     "data": {
      "text/plain": [
       "0"
      ]
     },
     "execution_count": 13,
     "metadata": {},
     "output_type": "execute_result"
    }
   ],
   "source": [
    "df['pregnancy']=df['pregnancy'].fillna(df['pregnancy'].mode()[0])\n",
    "df['pregnancy'].isnull().sum()"
   ]
  },
  {
   "cell_type": "code",
   "execution_count": 14,
   "metadata": {},
   "outputs": [
    {
     "data": {
      "text/plain": [
       "0"
      ]
     },
     "execution_count": 14,
     "metadata": {},
     "output_type": "execute_result"
    }
   ],
   "source": [
    "df['diabetes']=df['diabetes'].fillna(df['diabetes'].mode()[0])\n",
    "df['diabetes'].isnull().sum()"
   ]
  },
  {
   "cell_type": "code",
   "execution_count": 15,
   "metadata": {},
   "outputs": [
    {
     "data": {
      "text/plain": [
       "0"
      ]
     },
     "execution_count": 15,
     "metadata": {},
     "output_type": "execute_result"
    }
   ],
   "source": [
    "df['copd']=df['copd'].fillna(df['copd'].mode()[0])\n",
    "df['copd'].isnull().sum()"
   ]
  },
  {
   "cell_type": "code",
   "execution_count": 16,
   "metadata": {},
   "outputs": [
    {
     "data": {
      "text/plain": [
       "0"
      ]
     },
     "execution_count": 16,
     "metadata": {},
     "output_type": "execute_result"
    }
   ],
   "source": [
    "df['asthma']=df['asthma'].fillna(df['asthma'].mode()[0])\n",
    "df['asthma'].isnull().sum()"
   ]
  },
  {
   "cell_type": "code",
   "execution_count": 17,
   "metadata": {},
   "outputs": [
    {
     "data": {
      "text/plain": [
       "0"
      ]
     },
     "execution_count": 17,
     "metadata": {},
     "output_type": "execute_result"
    }
   ],
   "source": [
    "df['inmsupr']=df['inmsupr'].fillna(df['inmsupr'].mode()[0])\n",
    "df['inmsupr'].isnull().sum()"
   ]
  },
  {
   "cell_type": "code",
   "execution_count": 18,
   "metadata": {},
   "outputs": [
    {
     "data": {
      "text/plain": [
       "0"
      ]
     },
     "execution_count": 18,
     "metadata": {},
     "output_type": "execute_result"
    }
   ],
   "source": [
    "df['hypertension']=df['hypertension'].fillna(df['hypertension'].mode()[0])\n",
    "df['hypertension'].isnull().sum()"
   ]
  },
  {
   "cell_type": "code",
   "execution_count": 19,
   "metadata": {},
   "outputs": [
    {
     "data": {
      "text/plain": [
       "0"
      ]
     },
     "execution_count": 19,
     "metadata": {},
     "output_type": "execute_result"
    }
   ],
   "source": [
    "df['cardiovascular']=df['cardiovascular'].fillna(df['cardiovascular'].mode()[0])\n",
    "df['cardiovascular'].isnull().sum()"
   ]
  },
  {
   "cell_type": "code",
   "execution_count": 20,
   "metadata": {},
   "outputs": [
    {
     "data": {
      "text/plain": [
       "0"
      ]
     },
     "execution_count": 20,
     "metadata": {},
     "output_type": "execute_result"
    }
   ],
   "source": [
    "df['obesity']=df['obesity'].fillna(df['obesity'].mode()[0])\n",
    "df['obesity'].isnull().sum()"
   ]
  },
  {
   "cell_type": "code",
   "execution_count": 21,
   "metadata": {},
   "outputs": [
    {
     "data": {
      "text/plain": [
       "0"
      ]
     },
     "execution_count": 21,
     "metadata": {},
     "output_type": "execute_result"
    }
   ],
   "source": [
    "df['renal_chronic']=df['renal_chronic'].fillna(df['renal_chronic'].mode()[0])\n",
    "df['renal_chronic'].isnull().sum()"
   ]
  },
  {
   "cell_type": "code",
   "execution_count": 22,
   "metadata": {},
   "outputs": [
    {
     "data": {
      "text/plain": [
       "0"
      ]
     },
     "execution_count": 22,
     "metadata": {},
     "output_type": "execute_result"
    }
   ],
   "source": [
    "df['tobacco']=df['tobacco'].fillna(df['tobacco'].mode()[0])\n",
    "df['tobacco'].isnull().sum()"
   ]
  },
  {
   "cell_type": "code",
   "execution_count": 23,
   "metadata": {},
   "outputs": [
    {
     "data": {
      "text/plain": [
       "0"
      ]
     },
     "execution_count": 23,
     "metadata": {},
     "output_type": "execute_result"
    }
   ],
   "source": [
    "df['contact_other_covid']=df['contact_other_covid'].fillna(df['contact_other_covid'].mode()[0])\n",
    "df['contact_other_covid'].isnull().sum()"
   ]
  },
  {
   "cell_type": "code",
   "execution_count": 24,
   "metadata": {},
   "outputs": [
    {
     "data": {
      "text/plain": [
       "0"
      ]
     },
     "execution_count": 24,
     "metadata": {},
     "output_type": "execute_result"
    }
   ],
   "source": [
    "df['icu']=df['icu'].fillna(df['icu'].mode()[0])\n",
    "df['icu'].isnull().sum()"
   ]
  },
  {
   "cell_type": "code",
   "execution_count": 25,
   "metadata": {},
   "outputs": [
    {
     "name": "stdout",
     "output_type": "stream",
     "text": [
      "<class 'pandas.core.frame.DataFrame'>\n",
      "RangeIndex: 566602 entries, 0 to 566601\n",
      "Data columns (total 23 columns):\n",
      "id                     566602 non-null object\n",
      "sex                    566602 non-null object\n",
      "patient_type           566602 non-null object\n",
      "entry_date             566602 non-null object\n",
      "date_symptoms          566602 non-null object\n",
      "date_died              566602 non-null object\n",
      "intubed                566602 non-null object\n",
      "pneumonia              566602 non-null object\n",
      "age                    566602 non-null object\n",
      "pregnancy              566602 non-null object\n",
      "diabetes               566602 non-null object\n",
      "copd                   566602 non-null object\n",
      "asthma                 566602 non-null object\n",
      "inmsupr                566602 non-null object\n",
      "hypertension           566602 non-null object\n",
      "other_disease          564004 non-null object\n",
      "cardiovascular         566602 non-null object\n",
      "obesity                566602 non-null object\n",
      "renal_chronic          566602 non-null object\n",
      "tobacco                566602 non-null object\n",
      "contact_other_covid    566602 non-null object\n",
      "covid_res              566602 non-null object\n",
      "icu                    566602 non-null object\n",
      "dtypes: object(23)\n",
      "memory usage: 99.4+ MB\n"
     ]
    }
   ],
   "source": [
    "df.info()"
   ]
  },
  {
   "cell_type": "markdown",
   "metadata": {},
   "source": [
    "# Column Drop"
   ]
  },
  {
   "cell_type": "code",
   "execution_count": 27,
   "metadata": {},
   "outputs": [
    {
     "data": {
      "text/html": [
       "<div>\n",
       "<style scoped>\n",
       "    .dataframe tbody tr th:only-of-type {\n",
       "        vertical-align: middle;\n",
       "    }\n",
       "\n",
       "    .dataframe tbody tr th {\n",
       "        vertical-align: top;\n",
       "    }\n",
       "\n",
       "    .dataframe thead th {\n",
       "        text-align: right;\n",
       "    }\n",
       "</style>\n",
       "<table border=\"1\" class=\"dataframe\">\n",
       "  <thead>\n",
       "    <tr style=\"text-align: right;\">\n",
       "      <th></th>\n",
       "      <th>sex</th>\n",
       "      <th>patient_type</th>\n",
       "      <th>pneumonia</th>\n",
       "      <th>age</th>\n",
       "      <th>diabetes</th>\n",
       "      <th>copd</th>\n",
       "      <th>asthma</th>\n",
       "      <th>hypertension</th>\n",
       "      <th>other_disease</th>\n",
       "      <th>cardiovascular</th>\n",
       "      <th>obesity</th>\n",
       "      <th>renal_chronic</th>\n",
       "      <th>tobacco</th>\n",
       "      <th>contact_other_covid</th>\n",
       "      <th>covid_res</th>\n",
       "    </tr>\n",
       "  </thead>\n",
       "  <tbody>\n",
       "    <tr>\n",
       "      <th>0</th>\n",
       "      <td>Male</td>\n",
       "      <td>Outpatient</td>\n",
       "      <td>No</td>\n",
       "      <td>27</td>\n",
       "      <td>No</td>\n",
       "      <td>No</td>\n",
       "      <td>No</td>\n",
       "      <td>No</td>\n",
       "      <td>No</td>\n",
       "      <td>No</td>\n",
       "      <td>No</td>\n",
       "      <td>No</td>\n",
       "      <td>No</td>\n",
       "      <td>No</td>\n",
       "      <td>Positive</td>\n",
       "    </tr>\n",
       "    <tr>\n",
       "      <th>1</th>\n",
       "      <td>Male</td>\n",
       "      <td>Outpatient</td>\n",
       "      <td>No</td>\n",
       "      <td>24</td>\n",
       "      <td>No</td>\n",
       "      <td>No</td>\n",
       "      <td>No</td>\n",
       "      <td>No</td>\n",
       "      <td>No</td>\n",
       "      <td>No</td>\n",
       "      <td>No</td>\n",
       "      <td>No</td>\n",
       "      <td>No</td>\n",
       "      <td>Yes</td>\n",
       "      <td>Positive</td>\n",
       "    </tr>\n",
       "    <tr>\n",
       "      <th>2</th>\n",
       "      <td>Female</td>\n",
       "      <td>Inpatient</td>\n",
       "      <td>No</td>\n",
       "      <td>54</td>\n",
       "      <td>No</td>\n",
       "      <td>No</td>\n",
       "      <td>No</td>\n",
       "      <td>No</td>\n",
       "      <td>No</td>\n",
       "      <td>No</td>\n",
       "      <td>Yes</td>\n",
       "      <td>No</td>\n",
       "      <td>No</td>\n",
       "      <td>Yes</td>\n",
       "      <td>Positive</td>\n",
       "    </tr>\n",
       "    <tr>\n",
       "      <th>3</th>\n",
       "      <td>Male</td>\n",
       "      <td>Inpatient</td>\n",
       "      <td>Yes</td>\n",
       "      <td>30</td>\n",
       "      <td>No</td>\n",
       "      <td>No</td>\n",
       "      <td>No</td>\n",
       "      <td>No</td>\n",
       "      <td>No</td>\n",
       "      <td>No</td>\n",
       "      <td>No</td>\n",
       "      <td>No</td>\n",
       "      <td>No</td>\n",
       "      <td>Yes</td>\n",
       "      <td>Positive</td>\n",
       "    </tr>\n",
       "    <tr>\n",
       "      <th>4</th>\n",
       "      <td>Female</td>\n",
       "      <td>Inpatient</td>\n",
       "      <td>No</td>\n",
       "      <td>60</td>\n",
       "      <td>Yes</td>\n",
       "      <td>No</td>\n",
       "      <td>No</td>\n",
       "      <td>Yes</td>\n",
       "      <td>No</td>\n",
       "      <td>Yes</td>\n",
       "      <td>No</td>\n",
       "      <td>No</td>\n",
       "      <td>No</td>\n",
       "      <td>Yes</td>\n",
       "      <td>Positive</td>\n",
       "    </tr>\n",
       "  </tbody>\n",
       "</table>\n",
       "</div>"
      ],
      "text/plain": [
       "      sex patient_type pneumonia age diabetes copd asthma hypertension  \\\n",
       "0    Male   Outpatient        No  27       No   No     No           No   \n",
       "1    Male   Outpatient        No  24       No   No     No           No   \n",
       "2  Female    Inpatient        No  54       No   No     No           No   \n",
       "3    Male    Inpatient       Yes  30       No   No     No           No   \n",
       "4  Female    Inpatient        No  60      Yes   No     No          Yes   \n",
       "\n",
       "  other_disease cardiovascular obesity renal_chronic tobacco  \\\n",
       "0            No             No      No            No      No   \n",
       "1            No             No      No            No      No   \n",
       "2            No             No     Yes            No      No   \n",
       "3            No             No      No            No      No   \n",
       "4            No            Yes      No            No      No   \n",
       "\n",
       "  contact_other_covid covid_res  \n",
       "0                  No  Positive  \n",
       "1                 Yes  Positive  \n",
       "2                 Yes  Positive  \n",
       "3                 Yes  Positive  \n",
       "4                 Yes  Positive  "
      ]
     },
     "execution_count": 27,
     "metadata": {},
     "output_type": "execute_result"
    }
   ],
   "source": [
    "df=df.drop(['id','entry_date','date_symptoms','date_died','intubed','pregnancy','inmsupr','icu'],axis=1)\n",
    "df.head()"
   ]
  },
  {
   "cell_type": "code",
   "execution_count": 28,
   "metadata": {},
   "outputs": [],
   "source": [
    "df = df.drop(df[df.covid_res=='Results Awaited'].index, axis=0)"
   ]
  },
  {
   "cell_type": "markdown",
   "metadata": {},
   "source": [
    "# Converting Categorical Columns into Numerical"
   ]
  },
  {
   "cell_type": "code",
   "execution_count": 29,
   "metadata": {},
   "outputs": [
    {
     "name": "stdout",
     "output_type": "stream",
     "text": [
      "['sex', 'patient_type', 'pneumonia', 'age', 'diabetes', 'copd', 'asthma', 'hypertension', 'other_disease', 'cardiovascular', 'obesity', 'renal_chronic', 'tobacco', 'contact_other_covid', 'covid_res']\n"
     ]
    }
   ],
   "source": [
    "# Finding Categorical Columns\n",
    "categorical_feature_mask = df.dtypes==object\n",
    "\n",
    "# filter categorical columns using mask and turn it into a list\n",
    "categorical_cols = df.columns[categorical_feature_mask].tolist()\n",
    "print(categorical_cols)"
   ]
  },
  {
   "cell_type": "code",
   "execution_count": 30,
   "metadata": {},
   "outputs": [],
   "source": [
    "for c in categorical_cols:\n",
    "    lbl = LabelEncoder() \n",
    "    lbl.fit(list(df[c].values)) \n",
    "    df[c] = lbl.transform(list(df[c].values))"
   ]
  },
  {
   "cell_type": "code",
   "execution_count": 31,
   "metadata": {},
   "outputs": [
    {
     "name": "stdout",
     "output_type": "stream",
     "text": [
      "<class 'pandas.core.frame.DataFrame'>\n",
      "Int64Index: 499692 entries, 0 to 499691\n",
      "Data columns (total 15 columns):\n",
      "sex                    499692 non-null int64\n",
      "patient_type           499692 non-null int64\n",
      "pneumonia              499692 non-null int64\n",
      "age                    499692 non-null int64\n",
      "diabetes               499692 non-null int64\n",
      "copd                   499692 non-null int64\n",
      "asthma                 499692 non-null int64\n",
      "hypertension           499692 non-null int64\n",
      "other_disease          499692 non-null int64\n",
      "cardiovascular         499692 non-null int64\n",
      "obesity                499692 non-null int64\n",
      "renal_chronic          499692 non-null int64\n",
      "tobacco                499692 non-null int64\n",
      "contact_other_covid    499692 non-null int64\n",
      "covid_res              499692 non-null int64\n",
      "dtypes: int64(15)\n",
      "memory usage: 61.0 MB\n"
     ]
    }
   ],
   "source": [
    "df.info()"
   ]
  },
  {
   "cell_type": "markdown",
   "metadata": {},
   "source": [
    "# Train, Test Data Spliting"
   ]
  },
  {
   "cell_type": "code",
   "execution_count": 32,
   "metadata": {},
   "outputs": [],
   "source": [
    "x = df.drop('covid_res',axis=1)\n",
    "y = df['covid_res']\n",
    "\n",
    "x_train, x_test, y_train, y_test = train_test_split(x, y, test_size=0.3, random_state=0)"
   ]
  },
  {
   "cell_type": "markdown",
   "metadata": {},
   "source": [
    "# Gradient Boosting Classifier"
   ]
  },
  {
   "cell_type": "code",
   "execution_count": 33,
   "metadata": {},
   "outputs": [
    {
     "name": "stdout",
     "output_type": "stream",
     "text": [
      "0.6320076313472263\n",
      "0.6237826399909809\n",
      "0.8592435970948012\n",
      "0.722820980489692\n",
      "[[71929 11783]\n",
      " [43382 22814]]\n",
      "              precision    recall  f1-score   support\n",
      "\n",
      "           0       0.62      0.86      0.72     83712\n",
      "           1       0.66      0.34      0.45     66196\n",
      "\n",
      "    accuracy                           0.63    149908\n",
      "   macro avg       0.64      0.60      0.59    149908\n",
      "weighted avg       0.64      0.63      0.60    149908\n",
      "\n"
     ]
    }
   ],
   "source": [
    "from sklearn.ensemble import GradientBoostingClassifier\n",
    "\n",
    "Grad_boost = GradientBoostingClassifier()\n",
    "Grad_boost.fit(x_train, y_train)\n",
    "Grad_boost_pred = Grad_boost.predict(x_test)\n",
    "Grad_boost_accuracy = metrics.accuracy_score(y_test, Grad_boost_pred)\n",
    "print(Grad_boost_accuracy)\n",
    "\n",
    "Grad_boost_precision=metrics.precision_score(y_test, Grad_boost_pred,pos_label=0)\n",
    "print(Grad_boost_precision)\n",
    "\n",
    "Grad_boost_recall=metrics.recall_score(y_test, Grad_boost_pred,pos_label=0)\n",
    "print(Grad_boost_recall)\n",
    "\n",
    "Grad_boost_f1_score= metrics.f1_score(y_test, Grad_boost_pred,pos_label=0)\n",
    "print(Grad_boost_f1_score)\n",
    "\n",
    "print(confusion_matrix(y_test,Grad_boost_pred))\n",
    "print(classification_report(y_test,Grad_boost_pred))"
   ]
  },
  {
   "cell_type": "markdown",
   "metadata": {},
   "source": [
    "# Gradient Boosting with Cross Validation"
   ]
  },
  {
   "cell_type": "code",
   "execution_count": 34,
   "metadata": {},
   "outputs": [
    {
     "name": "stdout",
     "output_type": "stream",
     "text": [
      "0.6331700386598383\n",
      "0.6436930229151051\n",
      "0.6029393429571045\n",
      "0.5885535781887492\n"
     ]
    }
   ],
   "source": [
    "Grad_boost_cross_val = cross_val_score(Grad_boost, x, y, cv=10, scoring='accuracy')\n",
    "Grad_boost_cv_accuracy = Grad_boost_cross_val.mean()\n",
    "print(Grad_boost_cv_accuracy)\n",
    "\n",
    "Grad_boost_cross_val_pre = cross_val_score(Grad_boost, x, y, cv=10, scoring='precision_macro')\n",
    "Grad_boost_cv_precision = Grad_boost_cross_val_pre.mean()\n",
    "print(Grad_boost_cv_precision)\n",
    "\n",
    "Grad_boost_cross_val_re = cross_val_score(Grad_boost, x, y, cv=10, scoring='recall_macro')\n",
    "Grad_boost_cv_recall = Grad_boost_cross_val_re.mean()\n",
    "print(Grad_boost_cv_recall)\n",
    "\n",
    "Grad_boost_cross_val_f1 = cross_val_score(Grad_boost, x, y, cv=10, scoring='f1_macro')\n",
    "Grad_boost_cv_f1_score = Grad_boost_cross_val_f1.mean()\n",
    "print(Grad_boost_cv_f1_score)"
   ]
  },
  {
   "cell_type": "code",
   "execution_count": null,
   "metadata": {},
   "outputs": [],
   "source": []
  }
 ],
 "metadata": {
  "kernelspec": {
   "display_name": "Python 3",
   "language": "python",
   "name": "python3"
  },
  "language_info": {
   "codemirror_mode": {
    "name": "ipython",
    "version": 3
   },
   "file_extension": ".py",
   "mimetype": "text/x-python",
   "name": "python",
   "nbconvert_exporter": "python",
   "pygments_lexer": "ipython3",
   "version": "3.7.3"
  }
 },
 "nbformat": 4,
 "nbformat_minor": 2
}
